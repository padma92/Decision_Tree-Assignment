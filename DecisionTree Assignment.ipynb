{
 "cells": [
  {
   "cell_type": "code",
   "execution_count": 1,
   "id": "dd115c26",
   "metadata": {
    "ExecuteTime": {
     "end_time": "2021-11-16T11:04:03.436278Z",
     "start_time": "2021-11-16T11:04:03.424307Z"
    }
   },
   "outputs": [],
   "source": [
    "# Company Data Exercise"
   ]
  },
  {
   "cell_type": "code",
   "execution_count": 2,
   "id": "e086f75b",
   "metadata": {
    "ExecuteTime": {
     "end_time": "2021-11-17T07:02:48.496531Z",
     "start_time": "2021-11-17T07:02:20.137255Z"
    }
   },
   "outputs": [],
   "source": [
    "import pandas as pd\n",
    "import matplotlib.pyplot as plt\n",
    "from sklearn import datasets  \n",
    "import numpy as np\n",
    "from sklearn.model_selection import train_test_split\n",
    "from sklearn.tree import  DecisionTreeClassifier\n",
    "from sklearn import tree\n",
    "from sklearn.metrics import classification_report\n",
    "from sklearn import preprocessing \n",
    "from sklearn.metrics import accuracy_score\n",
    "import re"
   ]
  },
  {
   "cell_type": "code",
   "execution_count": 3,
   "id": "f97ec6fc",
   "metadata": {
    "ExecuteTime": {
     "end_time": "2021-11-17T07:03:13.093938Z",
     "start_time": "2021-11-17T07:03:11.870741Z"
    }
   },
   "outputs": [
    {
     "data": {
      "text/html": [
       "<div>\n",
       "<style scoped>\n",
       "    .dataframe tbody tr th:only-of-type {\n",
       "        vertical-align: middle;\n",
       "    }\n",
       "\n",
       "    .dataframe tbody tr th {\n",
       "        vertical-align: top;\n",
       "    }\n",
       "\n",
       "    .dataframe thead th {\n",
       "        text-align: right;\n",
       "    }\n",
       "</style>\n",
       "<table border=\"1\" class=\"dataframe\">\n",
       "  <thead>\n",
       "    <tr style=\"text-align: right;\">\n",
       "      <th></th>\n",
       "      <th>CompPrice</th>\n",
       "      <th>Income</th>\n",
       "      <th>Advertising</th>\n",
       "      <th>Population</th>\n",
       "      <th>Price</th>\n",
       "      <th>ShelveLoc</th>\n",
       "      <th>Age</th>\n",
       "      <th>Education</th>\n",
       "      <th>Urban</th>\n",
       "      <th>US</th>\n",
       "      <th>Sales</th>\n",
       "    </tr>\n",
       "  </thead>\n",
       "  <tbody>\n",
       "    <tr>\n",
       "      <th>0</th>\n",
       "      <td>138</td>\n",
       "      <td>73</td>\n",
       "      <td>11</td>\n",
       "      <td>276</td>\n",
       "      <td>120</td>\n",
       "      <td>Bad</td>\n",
       "      <td>42</td>\n",
       "      <td>17</td>\n",
       "      <td>Yes</td>\n",
       "      <td>Yes</td>\n",
       "      <td>9.50</td>\n",
       "    </tr>\n",
       "    <tr>\n",
       "      <th>1</th>\n",
       "      <td>111</td>\n",
       "      <td>48</td>\n",
       "      <td>16</td>\n",
       "      <td>260</td>\n",
       "      <td>83</td>\n",
       "      <td>Good</td>\n",
       "      <td>65</td>\n",
       "      <td>10</td>\n",
       "      <td>Yes</td>\n",
       "      <td>Yes</td>\n",
       "      <td>11.22</td>\n",
       "    </tr>\n",
       "    <tr>\n",
       "      <th>2</th>\n",
       "      <td>113</td>\n",
       "      <td>35</td>\n",
       "      <td>10</td>\n",
       "      <td>269</td>\n",
       "      <td>80</td>\n",
       "      <td>Medium</td>\n",
       "      <td>59</td>\n",
       "      <td>12</td>\n",
       "      <td>Yes</td>\n",
       "      <td>Yes</td>\n",
       "      <td>10.06</td>\n",
       "    </tr>\n",
       "    <tr>\n",
       "      <th>3</th>\n",
       "      <td>117</td>\n",
       "      <td>100</td>\n",
       "      <td>4</td>\n",
       "      <td>466</td>\n",
       "      <td>97</td>\n",
       "      <td>Medium</td>\n",
       "      <td>55</td>\n",
       "      <td>14</td>\n",
       "      <td>Yes</td>\n",
       "      <td>Yes</td>\n",
       "      <td>7.40</td>\n",
       "    </tr>\n",
       "    <tr>\n",
       "      <th>4</th>\n",
       "      <td>141</td>\n",
       "      <td>64</td>\n",
       "      <td>3</td>\n",
       "      <td>340</td>\n",
       "      <td>128</td>\n",
       "      <td>Bad</td>\n",
       "      <td>38</td>\n",
       "      <td>13</td>\n",
       "      <td>Yes</td>\n",
       "      <td>No</td>\n",
       "      <td>4.15</td>\n",
       "    </tr>\n",
       "  </tbody>\n",
       "</table>\n",
       "</div>"
      ],
      "text/plain": [
       "   CompPrice  Income  Advertising  Population  Price ShelveLoc  Age  \\\n",
       "0        138      73           11         276    120       Bad   42   \n",
       "1        111      48           16         260     83      Good   65   \n",
       "2        113      35           10         269     80    Medium   59   \n",
       "3        117     100            4         466     97    Medium   55   \n",
       "4        141      64            3         340    128       Bad   38   \n",
       "\n",
       "   Education Urban   US  Sales  \n",
       "0         17   Yes  Yes   9.50  \n",
       "1         10   Yes  Yes  11.22  \n",
       "2         12   Yes  Yes  10.06  \n",
       "3         14   Yes  Yes   7.40  \n",
       "4         13   Yes   No   4.15  "
      ]
     },
     "execution_count": 3,
     "metadata": {},
     "output_type": "execute_result"
    }
   ],
   "source": [
    "data = pd.read_csv(\"Company_Data.csv\")\n",
    "data.head()"
   ]
  },
  {
   "cell_type": "code",
   "execution_count": 4,
   "id": "eafb4efb",
   "metadata": {
    "ExecuteTime": {
     "end_time": "2021-11-17T07:03:17.969025Z",
     "start_time": "2021-11-17T07:03:17.957465Z"
    }
   },
   "outputs": [
    {
     "name": "stdout",
     "output_type": "stream",
     "text": [
      "Dataset Length::  400\n",
      "Dataset Shape::  (400, 11)\n"
     ]
    }
   ],
   "source": [
    "print(\"Dataset Length:: \",len(data))\n",
    "print(\"Dataset Shape:: \",data.shape)"
   ]
  },
  {
   "cell_type": "code",
   "execution_count": 5,
   "id": "d27dfb13",
   "metadata": {
    "ExecuteTime": {
     "end_time": "2021-11-17T07:03:18.727710Z",
     "start_time": "2021-11-17T07:03:18.714292Z"
    }
   },
   "outputs": [],
   "source": [
    "label_encoder = preprocessing.LabelEncoder()\n",
    "data['Urban']= label_encoder.fit_transform(data['Urban']) \n",
    "\n",
    "label_encoder = preprocessing.LabelEncoder()\n",
    "data['US']= label_encoder.fit_transform(data['US']) \n",
    "\n",
    "label_encoder = preprocessing.LabelEncoder()\n",
    "data['ShelveLoc']= label_encoder.fit_transform(data['ShelveLoc']) \n",
    "\n",
    "label_encoder = preprocessing.LabelEncoder()\n",
    "data['Sales']= label_encoder.fit_transform(data['Sales']) "
   ]
  },
  {
   "cell_type": "code",
   "execution_count": 6,
   "id": "32f631ec",
   "metadata": {
    "ExecuteTime": {
     "end_time": "2021-11-17T07:03:19.631395Z",
     "start_time": "2021-11-17T07:03:19.613270Z"
    }
   },
   "outputs": [],
   "source": [
    "data['Sales'] = data.Sales.astype('category')"
   ]
  },
  {
   "cell_type": "code",
   "execution_count": 7,
   "id": "634be9c6",
   "metadata": {
    "ExecuteTime": {
     "end_time": "2021-11-17T07:03:26.509679Z",
     "start_time": "2021-11-17T07:03:26.468009Z"
    }
   },
   "outputs": [
    {
     "data": {
      "text/html": [
       "<div>\n",
       "<style scoped>\n",
       "    .dataframe tbody tr th:only-of-type {\n",
       "        vertical-align: middle;\n",
       "    }\n",
       "\n",
       "    .dataframe tbody tr th {\n",
       "        vertical-align: top;\n",
       "    }\n",
       "\n",
       "    .dataframe thead th {\n",
       "        text-align: right;\n",
       "    }\n",
       "</style>\n",
       "<table border=\"1\" class=\"dataframe\">\n",
       "  <thead>\n",
       "    <tr style=\"text-align: right;\">\n",
       "      <th></th>\n",
       "      <th>CompPrice</th>\n",
       "      <th>Income</th>\n",
       "      <th>Advertising</th>\n",
       "      <th>Population</th>\n",
       "      <th>Price</th>\n",
       "      <th>ShelveLoc</th>\n",
       "      <th>Age</th>\n",
       "      <th>Education</th>\n",
       "      <th>Urban</th>\n",
       "      <th>US</th>\n",
       "      <th>Sales</th>\n",
       "    </tr>\n",
       "  </thead>\n",
       "  <tbody>\n",
       "    <tr>\n",
       "      <th>0</th>\n",
       "      <td>138</td>\n",
       "      <td>73</td>\n",
       "      <td>11</td>\n",
       "      <td>276</td>\n",
       "      <td>120</td>\n",
       "      <td>0</td>\n",
       "      <td>42</td>\n",
       "      <td>17</td>\n",
       "      <td>1</td>\n",
       "      <td>1</td>\n",
       "      <td>255</td>\n",
       "    </tr>\n",
       "    <tr>\n",
       "      <th>1</th>\n",
       "      <td>111</td>\n",
       "      <td>48</td>\n",
       "      <td>16</td>\n",
       "      <td>260</td>\n",
       "      <td>83</td>\n",
       "      <td>1</td>\n",
       "      <td>65</td>\n",
       "      <td>10</td>\n",
       "      <td>1</td>\n",
       "      <td>1</td>\n",
       "      <td>297</td>\n",
       "    </tr>\n",
       "    <tr>\n",
       "      <th>2</th>\n",
       "      <td>113</td>\n",
       "      <td>35</td>\n",
       "      <td>10</td>\n",
       "      <td>269</td>\n",
       "      <td>80</td>\n",
       "      <td>2</td>\n",
       "      <td>59</td>\n",
       "      <td>12</td>\n",
       "      <td>1</td>\n",
       "      <td>1</td>\n",
       "      <td>267</td>\n",
       "    </tr>\n",
       "    <tr>\n",
       "      <th>3</th>\n",
       "      <td>117</td>\n",
       "      <td>100</td>\n",
       "      <td>4</td>\n",
       "      <td>466</td>\n",
       "      <td>97</td>\n",
       "      <td>2</td>\n",
       "      <td>55</td>\n",
       "      <td>14</td>\n",
       "      <td>1</td>\n",
       "      <td>1</td>\n",
       "      <td>158</td>\n",
       "    </tr>\n",
       "    <tr>\n",
       "      <th>4</th>\n",
       "      <td>141</td>\n",
       "      <td>64</td>\n",
       "      <td>3</td>\n",
       "      <td>340</td>\n",
       "      <td>128</td>\n",
       "      <td>0</td>\n",
       "      <td>38</td>\n",
       "      <td>13</td>\n",
       "      <td>1</td>\n",
       "      <td>0</td>\n",
       "      <td>37</td>\n",
       "    </tr>\n",
       "    <tr>\n",
       "      <th>...</th>\n",
       "      <td>...</td>\n",
       "      <td>...</td>\n",
       "      <td>...</td>\n",
       "      <td>...</td>\n",
       "      <td>...</td>\n",
       "      <td>...</td>\n",
       "      <td>...</td>\n",
       "      <td>...</td>\n",
       "      <td>...</td>\n",
       "      <td>...</td>\n",
       "      <td>...</td>\n",
       "    </tr>\n",
       "    <tr>\n",
       "      <th>395</th>\n",
       "      <td>138</td>\n",
       "      <td>108</td>\n",
       "      <td>17</td>\n",
       "      <td>203</td>\n",
       "      <td>128</td>\n",
       "      <td>1</td>\n",
       "      <td>33</td>\n",
       "      <td>14</td>\n",
       "      <td>1</td>\n",
       "      <td>1</td>\n",
       "      <td>320</td>\n",
       "    </tr>\n",
       "    <tr>\n",
       "      <th>396</th>\n",
       "      <td>139</td>\n",
       "      <td>23</td>\n",
       "      <td>3</td>\n",
       "      <td>37</td>\n",
       "      <td>120</td>\n",
       "      <td>2</td>\n",
       "      <td>55</td>\n",
       "      <td>11</td>\n",
       "      <td>0</td>\n",
       "      <td>1</td>\n",
       "      <td>114</td>\n",
       "    </tr>\n",
       "    <tr>\n",
       "      <th>397</th>\n",
       "      <td>162</td>\n",
       "      <td>26</td>\n",
       "      <td>12</td>\n",
       "      <td>368</td>\n",
       "      <td>159</td>\n",
       "      <td>2</td>\n",
       "      <td>40</td>\n",
       "      <td>18</td>\n",
       "      <td>1</td>\n",
       "      <td>1</td>\n",
       "      <td>159</td>\n",
       "    </tr>\n",
       "    <tr>\n",
       "      <th>398</th>\n",
       "      <td>100</td>\n",
       "      <td>79</td>\n",
       "      <td>7</td>\n",
       "      <td>284</td>\n",
       "      <td>95</td>\n",
       "      <td>0</td>\n",
       "      <td>50</td>\n",
       "      <td>12</td>\n",
       "      <td>1</td>\n",
       "      <td>1</td>\n",
       "      <td>106</td>\n",
       "    </tr>\n",
       "    <tr>\n",
       "      <th>399</th>\n",
       "      <td>134</td>\n",
       "      <td>37</td>\n",
       "      <td>0</td>\n",
       "      <td>27</td>\n",
       "      <td>120</td>\n",
       "      <td>1</td>\n",
       "      <td>49</td>\n",
       "      <td>16</td>\n",
       "      <td>1</td>\n",
       "      <td>1</td>\n",
       "      <td>262</td>\n",
       "    </tr>\n",
       "  </tbody>\n",
       "</table>\n",
       "<p>400 rows × 11 columns</p>\n",
       "</div>"
      ],
      "text/plain": [
       "     CompPrice  Income  Advertising  Population  Price  ShelveLoc  Age  \\\n",
       "0          138      73           11         276    120          0   42   \n",
       "1          111      48           16         260     83          1   65   \n",
       "2          113      35           10         269     80          2   59   \n",
       "3          117     100            4         466     97          2   55   \n",
       "4          141      64            3         340    128          0   38   \n",
       "..         ...     ...          ...         ...    ...        ...  ...   \n",
       "395        138     108           17         203    128          1   33   \n",
       "396        139      23            3          37    120          2   55   \n",
       "397        162      26           12         368    159          2   40   \n",
       "398        100      79            7         284     95          0   50   \n",
       "399        134      37            0          27    120          1   49   \n",
       "\n",
       "     Education  Urban  US Sales  \n",
       "0           17      1   1   255  \n",
       "1           10      1   1   297  \n",
       "2           12      1   1   267  \n",
       "3           14      1   1   158  \n",
       "4           13      1   0    37  \n",
       "..         ...    ...  ..   ...  \n",
       "395         14      1   1   320  \n",
       "396         11      0   1   114  \n",
       "397         18      1   1   159  \n",
       "398         12      1   1   106  \n",
       "399         16      1   1   262  \n",
       "\n",
       "[400 rows x 11 columns]"
      ]
     },
     "execution_count": 7,
     "metadata": {},
     "output_type": "execute_result"
    }
   ],
   "source": [
    "data"
   ]
  },
  {
   "cell_type": "code",
   "execution_count": 8,
   "id": "81619ec7",
   "metadata": {
    "ExecuteTime": {
     "end_time": "2021-11-17T07:03:29.554330Z",
     "start_time": "2021-11-17T07:03:29.547565Z"
    }
   },
   "outputs": [],
   "source": [
    "#Separting the Target Variable\n",
    "X = data.values [:, 0:9]\n",
    "Y = data.values [:, 10]"
   ]
  },
  {
   "cell_type": "code",
   "execution_count": 9,
   "id": "0f07bb52",
   "metadata": {
    "ExecuteTime": {
     "end_time": "2021-11-17T07:03:30.235338Z",
     "start_time": "2021-11-17T07:03:30.216795Z"
    }
   },
   "outputs": [],
   "source": [
    "# Splitting dataset into test and train\n",
    "X_train, X_test, y_train, y_test = train_test_split(X, Y, test_size=0.3, random_state=100) "
   ]
  },
  {
   "cell_type": "code",
   "execution_count": 10,
   "id": "4275616e",
   "metadata": {
    "ExecuteTime": {
     "end_time": "2021-11-17T07:03:30.932007Z",
     "start_time": "2021-11-17T07:03:30.895519Z"
    }
   },
   "outputs": [
    {
     "data": {
      "text/plain": [
       "DecisionTreeClassifier(criterion='entropy', max_depth=3, min_samples_leaf=5,\n",
       "                       random_state=100)"
      ]
     },
     "execution_count": 10,
     "metadata": {},
     "output_type": "execute_result"
    }
   ],
   "source": [
    "#Function to perform training with Entropy\n",
    "clf_entropy = DecisionTreeClassifier (criterion = \"entropy\", random_state = 100,\n",
    "max_depth = 3, min_samples_leaf = 5)\n",
    "clf_entropy.fit(X_train, y_train)"
   ]
  },
  {
   "cell_type": "code",
   "execution_count": 11,
   "id": "9ae45f87",
   "metadata": {
    "ExecuteTime": {
     "end_time": "2021-11-17T07:03:32.623142Z",
     "start_time": "2021-11-17T07:03:31.466761Z"
    }
   },
   "outputs": [
    {
     "name": "stdout",
     "output_type": "stream",
     "text": [
      "[ 58 240   4 223  58 223   4   4 168 168 128  58 240 243 240 223 243 223\n",
      " 240  58 240  34  58 223 128  34 223 223 128 243 240 128 168 128 168 168\n",
      " 240 168 223   4 128   4 168 240  58 168 168  34 168  58 240 128 168  58\n",
      " 240 240 128  58  58 223 243  34  58  34 128  34   4 243 223 168  58 223\n",
      " 223 223 243   4 223  34 243 243 243 223 168 128 243 168   4  58  34   4\n",
      " 128 243 240 243  58  58 240 223 168   4 128 168 223 168 128 168  34  58\n",
      " 223  34 128 240  34 128 240 168 223 128 223 128]\n"
     ]
    }
   ],
   "source": [
    "#Function to perform training with Entropy\n",
    "y_pred_en = clf_entropy.predict(X_test)\n",
    "print(y_pred_en)"
   ]
  },
  {
   "cell_type": "code",
   "execution_count": 12,
   "id": "4b6a574b",
   "metadata": {
    "ExecuteTime": {
     "end_time": "2021-11-17T07:03:33.563256Z",
     "start_time": "2021-11-17T07:03:33.554563Z"
    }
   },
   "outputs": [
    {
     "name": "stdout",
     "output_type": "stream",
     "text": [
      "Accuracy is 0.8333333333333334\n"
     ]
    }
   ],
   "source": [
    "print(\"Accuracy is\", accuracy_score(y_test,y_pred_en)*100)"
   ]
  },
  {
   "cell_type": "code",
   "execution_count": 14,
   "id": "77301f84",
   "metadata": {
    "ExecuteTime": {
     "end_time": "2021-11-17T07:04:39.245729Z",
     "start_time": "2021-11-17T07:04:35.302161Z"
    }
   },
   "outputs": [
    {
     "data": {
      "image/png": "[encoded data removed]",
      "text/plain": [
       "<Figure size 432x288 with 1 Axes>"
      ]
     },
     "metadata": {
      "needs_background": "light"
     },
     "output_type": "display_data"
    }
   ],
   "source": [
    "#PLot the decision tree\n",
    "tree.plot_tree(clf_entropy);\n"
   ]
  },
  {
   "cell_type": "code",
   "execution_count": 152,
   "id": "90c68ba7",
   "metadata": {
    "ExecuteTime": {
     "end_time": "2021-11-16T17:02:08.993999Z",
     "start_time": "2021-11-16T17:02:08.973777Z"
    }
   },
   "outputs": [],
   "source": [
    "# Fraud Check Exercise"
   ]
  },
  {
   "cell_type": "code",
   "execution_count": 15,
   "id": "0e96ea00",
   "metadata": {
    "ExecuteTime": {
     "end_time": "2021-11-17T07:06:53.089687Z",
     "start_time": "2021-11-17T07:06:53.072595Z"
    }
   },
   "outputs": [],
   "source": [
    "import pandas as pd\n",
    "import matplotlib.pyplot as plt\n",
    "from sklearn import datasets  \n",
    "import numpy as np\n",
    "from sklearn.model_selection import train_test_split\n",
    "from sklearn.tree import  DecisionTreeClassifier\n",
    "from sklearn import tree\n",
    "from sklearn.metrics import classification_report\n",
    "from sklearn import preprocessing \n",
    "from sklearn.metrics import accuracy_score\n",
    "import re"
   ]
  },
  {
   "cell_type": "code",
   "execution_count": 16,
   "id": "655f3bc2",
   "metadata": {
    "ExecuteTime": {
     "end_time": "2021-11-17T07:06:54.118715Z",
     "start_time": "2021-11-17T07:06:54.088404Z"
    }
   },
   "outputs": [
    {
     "data": {
      "text/html": [
       "<div>\n",
       "<style scoped>\n",
       "    .dataframe tbody tr th:only-of-type {\n",
       "        vertical-align: middle;\n",
       "    }\n",
       "\n",
       "    .dataframe tbody tr th {\n",
       "        vertical-align: top;\n",
       "    }\n",
       "\n",
       "    .dataframe thead th {\n",
       "        text-align: right;\n",
       "    }\n",
       "</style>\n",
       "<table border=\"1\" class=\"dataframe\">\n",
       "  <thead>\n",
       "    <tr style=\"text-align: right;\">\n",
       "      <th></th>\n",
       "      <th>Undergrad</th>\n",
       "      <th>Marital Status</th>\n",
       "      <th>City Population</th>\n",
       "      <th>Work Experience</th>\n",
       "      <th>Urban</th>\n",
       "      <th>TaxableIncome</th>\n",
       "    </tr>\n",
       "  </thead>\n",
       "  <tbody>\n",
       "    <tr>\n",
       "      <th>0</th>\n",
       "      <td>NO</td>\n",
       "      <td>Single</td>\n",
       "      <td>50047</td>\n",
       "      <td>10</td>\n",
       "      <td>YES</td>\n",
       "      <td>68833</td>\n",
       "    </tr>\n",
       "    <tr>\n",
       "      <th>1</th>\n",
       "      <td>YES</td>\n",
       "      <td>Divorced</td>\n",
       "      <td>134075</td>\n",
       "      <td>18</td>\n",
       "      <td>YES</td>\n",
       "      <td>33700</td>\n",
       "    </tr>\n",
       "    <tr>\n",
       "      <th>2</th>\n",
       "      <td>NO</td>\n",
       "      <td>Married</td>\n",
       "      <td>160205</td>\n",
       "      <td>30</td>\n",
       "      <td>YES</td>\n",
       "      <td>36925</td>\n",
       "    </tr>\n",
       "    <tr>\n",
       "      <th>3</th>\n",
       "      <td>YES</td>\n",
       "      <td>Single</td>\n",
       "      <td>193264</td>\n",
       "      <td>15</td>\n",
       "      <td>YES</td>\n",
       "      <td>50190</td>\n",
       "    </tr>\n",
       "    <tr>\n",
       "      <th>4</th>\n",
       "      <td>NO</td>\n",
       "      <td>Married</td>\n",
       "      <td>27533</td>\n",
       "      <td>28</td>\n",
       "      <td>NO</td>\n",
       "      <td>81002</td>\n",
       "    </tr>\n",
       "  </tbody>\n",
       "</table>\n",
       "</div>"
      ],
      "text/plain": [
       "  Undergrad Marital Status  City Population  Work Experience Urban  \\\n",
       "0        NO         Single            50047               10   YES   \n",
       "1       YES       Divorced           134075               18   YES   \n",
       "2        NO        Married           160205               30   YES   \n",
       "3       YES         Single           193264               15   YES   \n",
       "4        NO        Married            27533               28    NO   \n",
       "\n",
       "   TaxableIncome  \n",
       "0          68833  \n",
       "1          33700  \n",
       "2          36925  \n",
       "3          50190  \n",
       "4          81002  "
      ]
     },
     "execution_count": 16,
     "metadata": {},
     "output_type": "execute_result"
    }
   ],
   "source": [
    "data = pd.read_csv(\"Fraud_check.csv\")\n",
    "data.head()"
   ]
  },
  {
   "cell_type": "code",
   "execution_count": 17,
   "id": "bc72841a",
   "metadata": {
    "ExecuteTime": {
     "end_time": "2021-11-17T07:06:55.997111Z",
     "start_time": "2021-11-17T07:06:55.896763Z"
    }
   },
   "outputs": [
    {
     "data": {
      "text/plain": [
       "Undergrad          0\n",
       "Marital Status     0\n",
       "City Population    0\n",
       "Work Experience    0\n",
       "Urban              0\n",
       "TaxableIncome      0\n",
       "dtype: int64"
      ]
     },
     "execution_count": 17,
     "metadata": {},
     "output_type": "execute_result"
    }
   ],
   "source": [
    "data.isnull().sum()"
   ]
  },
  {
   "cell_type": "code",
   "execution_count": 18,
   "id": "68ad9670",
   "metadata": {
    "ExecuteTime": {
     "end_time": "2021-11-17T07:07:01.349185Z",
     "start_time": "2021-11-17T07:07:01.333170Z"
    }
   },
   "outputs": [],
   "source": [
    "from sklearn.preprocessing import LabelEncoder\n",
    "\n",
    "label_encoder = preprocessing.LabelEncoder()\n",
    "data['Marital Status']= label_encoder.fit_transform(data['Marital Status']) \n",
    "\n",
    "label_encoder = preprocessing.LabelEncoder()\n",
    "data['Urban']= label_encoder.fit_transform(data['Urban']) \n",
    "\n",
    "label_encoder = preprocessing.LabelEncoder()\n",
    "data['Undergrad']= label_encoder.fit_transform(data['Undergrad']) \n",
    "\n",
    "label_encoder = preprocessing.LabelEncoder()\n",
    "data['TaxableIncome']= label_encoder.fit_transform(data['TaxableIncome']) "
   ]
  },
  {
   "cell_type": "code",
   "execution_count": 19,
   "id": "bd9c052c",
   "metadata": {
    "ExecuteTime": {
     "end_time": "2021-11-17T07:07:02.709436Z",
     "start_time": "2021-11-17T07:07:02.681381Z"
    }
   },
   "outputs": [
    {
     "data": {
      "text/html": [
       "<div>\n",
       "<style scoped>\n",
       "    .dataframe tbody tr th:only-of-type {\n",
       "        vertical-align: middle;\n",
       "    }\n",
       "\n",
       "    .dataframe tbody tr th {\n",
       "        vertical-align: top;\n",
       "    }\n",
       "\n",
       "    .dataframe thead th {\n",
       "        text-align: right;\n",
       "    }\n",
       "</style>\n",
       "<table border=\"1\" class=\"dataframe\">\n",
       "  <thead>\n",
       "    <tr style=\"text-align: right;\">\n",
       "      <th></th>\n",
       "      <th>Undergrad</th>\n",
       "      <th>Marital Status</th>\n",
       "      <th>City Population</th>\n",
       "      <th>Work Experience</th>\n",
       "      <th>Urban</th>\n",
       "      <th>TaxableIncome</th>\n",
       "    </tr>\n",
       "  </thead>\n",
       "  <tbody>\n",
       "    <tr>\n",
       "      <th>0</th>\n",
       "      <td>0</td>\n",
       "      <td>2</td>\n",
       "      <td>50047</td>\n",
       "      <td>10</td>\n",
       "      <td>1</td>\n",
       "      <td>387</td>\n",
       "    </tr>\n",
       "    <tr>\n",
       "      <th>1</th>\n",
       "      <td>1</td>\n",
       "      <td>0</td>\n",
       "      <td>134075</td>\n",
       "      <td>18</td>\n",
       "      <td>1</td>\n",
       "      <td>163</td>\n",
       "    </tr>\n",
       "    <tr>\n",
       "      <th>2</th>\n",
       "      <td>0</td>\n",
       "      <td>1</td>\n",
       "      <td>160205</td>\n",
       "      <td>30</td>\n",
       "      <td>1</td>\n",
       "      <td>186</td>\n",
       "    </tr>\n",
       "    <tr>\n",
       "      <th>3</th>\n",
       "      <td>1</td>\n",
       "      <td>2</td>\n",
       "      <td>193264</td>\n",
       "      <td>15</td>\n",
       "      <td>1</td>\n",
       "      <td>272</td>\n",
       "    </tr>\n",
       "    <tr>\n",
       "      <th>4</th>\n",
       "      <td>0</td>\n",
       "      <td>1</td>\n",
       "      <td>27533</td>\n",
       "      <td>28</td>\n",
       "      <td>0</td>\n",
       "      <td>468</td>\n",
       "    </tr>\n",
       "    <tr>\n",
       "      <th>...</th>\n",
       "      <td>...</td>\n",
       "      <td>...</td>\n",
       "      <td>...</td>\n",
       "      <td>...</td>\n",
       "      <td>...</td>\n",
       "      <td>...</td>\n",
       "    </tr>\n",
       "    <tr>\n",
       "      <th>595</th>\n",
       "      <td>1</td>\n",
       "      <td>0</td>\n",
       "      <td>39492</td>\n",
       "      <td>7</td>\n",
       "      <td>1</td>\n",
       "      <td>436</td>\n",
       "    </tr>\n",
       "    <tr>\n",
       "      <th>596</th>\n",
       "      <td>1</td>\n",
       "      <td>0</td>\n",
       "      <td>55369</td>\n",
       "      <td>2</td>\n",
       "      <td>1</td>\n",
       "      <td>395</td>\n",
       "    </tr>\n",
       "    <tr>\n",
       "      <th>597</th>\n",
       "      <td>0</td>\n",
       "      <td>0</td>\n",
       "      <td>154058</td>\n",
       "      <td>0</td>\n",
       "      <td>1</td>\n",
       "      <td>251</td>\n",
       "    </tr>\n",
       "    <tr>\n",
       "      <th>598</th>\n",
       "      <td>1</td>\n",
       "      <td>1</td>\n",
       "      <td>180083</td>\n",
       "      <td>17</td>\n",
       "      <td>0</td>\n",
       "      <td>587</td>\n",
       "    </tr>\n",
       "    <tr>\n",
       "      <th>599</th>\n",
       "      <td>0</td>\n",
       "      <td>0</td>\n",
       "      <td>158137</td>\n",
       "      <td>16</td>\n",
       "      <td>0</td>\n",
       "      <td>569</td>\n",
       "    </tr>\n",
       "  </tbody>\n",
       "</table>\n",
       "<p>600 rows × 6 columns</p>\n",
       "</div>"
      ],
      "text/plain": [
       "     Undergrad  Marital Status  City Population  Work Experience  Urban  \\\n",
       "0            0               2            50047               10      1   \n",
       "1            1               0           134075               18      1   \n",
       "2            0               1           160205               30      1   \n",
       "3            1               2           193264               15      1   \n",
       "4            0               1            27533               28      0   \n",
       "..         ...             ...              ...              ...    ...   \n",
       "595          1               0            39492                7      1   \n",
       "596          1               0            55369                2      1   \n",
       "597          0               0           154058                0      1   \n",
       "598          1               1           180083               17      0   \n",
       "599          0               0           158137               16      0   \n",
       "\n",
       "     TaxableIncome  \n",
       "0              387  \n",
       "1              163  \n",
       "2              186  \n",
       "3              272  \n",
       "4              468  \n",
       "..             ...  \n",
       "595            436  \n",
       "596            395  \n",
       "597            251  \n",
       "598            587  \n",
       "599            569  \n",
       "\n",
       "[600 rows x 6 columns]"
      ]
     },
     "execution_count": 19,
     "metadata": {},
     "output_type": "execute_result"
    }
   ],
   "source": [
    "data"
   ]
  },
  {
   "cell_type": "code",
   "execution_count": 20,
   "id": "de1f07be",
   "metadata": {
    "ExecuteTime": {
     "end_time": "2021-11-17T07:07:03.519315Z",
     "start_time": "2021-11-17T07:07:03.502304Z"
    }
   },
   "outputs": [],
   "source": [
    "X=data.iloc[:,0:5]\n",
    "y=data['TaxableIncome']"
   ]
  },
  {
   "cell_type": "code",
   "execution_count": 22,
   "id": "9f2c1c29",
   "metadata": {
    "ExecuteTime": {
     "end_time": "2021-11-17T07:09:06.354322Z",
     "start_time": "2021-11-17T07:09:06.342374Z"
    }
   },
   "outputs": [
    {
     "data": {
      "text/plain": [
       "array([387, 163, 186, 272, 468, 158, 483, 350, 485, 581, 121, 336,  13,\n",
       "       341, 359, 394,  89, 206, 578,  11, 516,  29, 454, 537, 192, 132,\n",
       "       300, 513,   5, 552, 427, 358, 572, 477,  21, 130,   2, 382,  33,\n",
       "       429, 277, 265, 568, 398, 162, 470, 135, 236,  42, 242, 462, 209,\n",
       "       577,  72, 476,  62, 171, 448,   8, 366, 556, 102, 534, 280, 345,\n",
       "       319, 226, 340,   1, 598, 522, 554, 216, 217, 144, 337, 376, 133,\n",
       "       424,   3, 240, 175, 371, 510, 391, 110, 203,  27, 505,  99, 444,\n",
       "       597, 500,  34,   4, 218,  78, 460,  77, 287, 543, 173, 148, 520,\n",
       "       220, 302,  58, 247, 284, 392,  88, 446, 566, 526,  73, 456, 229,\n",
       "       297, 123, 573, 285,  65,  69,  98, 403, 509,  40, 433, 580, 292,\n",
       "       548, 307, 250, 160, 176,  20, 293,  79, 491, 270, 109, 312, 328,\n",
       "       100, 458, 166, 489, 354, 232, 210, 463, 375,  75,  53,  91, 323,\n",
       "       201, 261, 111, 346, 511, 549, 308, 103, 262, 529, 266, 214,  54,\n",
       "       439, 586,  67,  25, 493, 238, 200, 198, 584, 508, 116, 412, 119,\n",
       "        82, 494, 545, 364, 421, 455, 112, 482, 425, 407, 258, 187,  68,\n",
       "       502,  10, 373, 185,  57, 342, 129, 399, 309,  46,  28, 283,  18,\n",
       "       413, 595, 174, 406, 343, 347, 467, 290, 131, 474, 317,  66, 484,\n",
       "       231, 388, 193, 506, 225, 179, 246, 113, 431,  86, 487,  12,   0,\n",
       "       591, 445, 244, 104, 313, 592, 147,  84, 153, 411, 379, 165, 269,\n",
       "        15, 114, 202, 136, 124, 420, 464, 400, 190, 397, 298, 542,  85,\n",
       "       316, 402, 393, 404, 150,  30, 233, 115, 560, 194, 125, 223, 145,\n",
       "       381, 321, 503, 348, 356,  90, 306,  49, 539, 365, 146,  38, 443,\n",
       "       435, 523,  17, 471, 256, 140,  39, 139, 590, 291, 386, 213, 248,\n",
       "       168, 583,   9, 339, 450, 344, 527, 518, 352, 408, 134, 330, 286,\n",
       "       169, 338, 331,  80, 257, 442, 478, 281, 452, 197, 259, 253, 428,\n",
       "       551, 108, 101, 374,  63, 562, 107, 582,  52, 245, 157, 351, 106,\n",
       "        93,  26, 181, 440, 415, 126, 267, 151,  70,  41, 234,  35, 255,\n",
       "       182,  37, 278,  32, 241,  81,  59, 466, 156, 369, 368,  44,  71,\n",
       "       304, 430, 159, 120, 563, 555, 453, 372, 211, 550, 355, 215, 570,\n",
       "       310, 183,  94, 180, 268, 385, 575, 383, 567, 275, 497, 422, 360,\n",
       "       363, 370,  96, 127, 488, 504, 544, 457,  48, 473, 349, 188, 334,\n",
       "       565, 532, 423, 295, 155, 161, 481, 524, 282, 472, 142, 579, 195,\n",
       "       361, 191, 521, 380, 324, 517, 596, 557, 419, 461, 553, 438,  16,\n",
       "       514, 588, 196, 189,  36,  76, 533, 589,  74,  31,  55, 441, 222,\n",
       "       479,  22,  61, 271,  56, 480, 204, 536, 449, 260, 538, 574, 576,\n",
       "       447, 289,  14,   6,  92, 318, 515,  45, 409, 263, 117, 264, 362,\n",
       "       495, 288,  50, 389, 322, 593, 177, 459, 315, 426, 320, 501, 353,\n",
       "       149,  51, 329, 559, 465, 469, 507, 205, 178,  87, 296,  47, 207,\n",
       "       396, 418, 367, 377, 546, 314, 311, 486, 432, 249, 414,  83, 561,\n",
       "       243,  64, 417, 228, 535, 301, 333, 279, 594,  60, 237, 335, 585,\n",
       "       475, 235, 274, 118, 254,  97, 326, 531, 154, 547, 405, 167,  95,\n",
       "       164, 199, 212, 571, 299, 152,  23,  19, 170, 327, 122, 184, 558,\n",
       "       541, 437, 528, 410, 143, 519, 530, 434, 137, 221,  24, 499, 416,\n",
       "       525, 276, 451, 564, 219, 357, 540,  43, 384, 332, 303, 172, 208,\n",
       "       325, 239,   7, 273, 305, 224, 401, 141, 128, 496, 390, 227, 490,\n",
       "       294, 512, 498, 138, 230, 105, 378, 492, 252, 436, 395, 251, 587,\n",
       "       569], dtype=int64)"
      ]
     },
     "execution_count": 22,
     "metadata": {},
     "output_type": "execute_result"
    }
   ],
   "source": [
    "data['TaxableIncome'].unique() "
   ]
  },
  {
   "cell_type": "code",
   "execution_count": 23,
   "id": "c0fbfcd0",
   "metadata": {
    "ExecuteTime": {
     "end_time": "2021-11-17T07:09:36.930020Z",
     "start_time": "2021-11-17T07:09:36.591140Z"
    }
   },
   "outputs": [
    {
     "data": {
      "text/plain": [
       "331    2\n",
       "0      1\n",
       "403    1\n",
       "396    1\n",
       "397    1\n",
       "      ..\n",
       "200    1\n",
       "201    1\n",
       "202    1\n",
       "203    1\n",
       "598    1\n",
       "Name: TaxableIncome, Length: 599, dtype: int64"
      ]
     },
     "execution_count": 23,
     "metadata": {},
     "output_type": "execute_result"
    }
   ],
   "source": [
    "data.TaxableIncome.value_counts() "
   ]
  },
  {
   "cell_type": "code",
   "execution_count": 24,
   "id": "ff6c1cd2",
   "metadata": {
    "ExecuteTime": {
     "end_time": "2021-11-17T07:10:04.165637Z",
     "start_time": "2021-11-17T07:10:04.153463Z"
    }
   },
   "outputs": [
    {
     "data": {
      "text/plain": [
       "['Undergrad',\n",
       " 'Marital Status',\n",
       " 'City Population',\n",
       " 'Work Experience',\n",
       " 'Urban',\n",
       " 'TaxableIncome']"
      ]
     },
     "execution_count": 24,
     "metadata": {},
     "output_type": "execute_result"
    }
   ],
   "source": [
    "colnames = list(data.columns)\n",
    "colnames"
   ]
  },
  {
   "cell_type": "code",
   "execution_count": 26,
   "id": "8a2f210f",
   "metadata": {
    "ExecuteTime": {
     "end_time": "2021-11-17T07:10:36.582597Z",
     "start_time": "2021-11-17T07:10:36.570124Z"
    }
   },
   "outputs": [],
   "source": [
    "# Splitting data into training and testing data set\n",
    "from sklearn.model_selection import train_test_split\n",
    "X_train, X_test, y_train, y_test =  train_test_split(X,y,test_size = 0.2, random_state= 50)"
   ]
  },
  {
   "cell_type": "code",
   "execution_count": 27,
   "id": "1d2044be",
   "metadata": {
    "ExecuteTime": {
     "end_time": "2021-11-17T07:10:49.441793Z",
     "start_time": "2021-11-17T07:10:49.424886Z"
    }
   },
   "outputs": [],
   "source": [
    "#feature scaling\n",
    "from sklearn.preprocessing import StandardScaler\n",
    "sc_X = StandardScaler()\n",
    "X_train = sc_X.fit_transform(X_train)\n",
    "X_test = sc_X.transform(X_test)"
   ]
  },
  {
   "cell_type": "code",
   "execution_count": 28,
   "id": "1a393cec",
   "metadata": {
    "ExecuteTime": {
     "end_time": "2021-11-17T07:10:55.708532Z",
     "start_time": "2021-11-17T07:10:55.661446Z"
    }
   },
   "outputs": [],
   "source": [
    "from sklearn.tree import DecisionTreeClassifier\n",
    "classifier = DecisionTreeClassifier()\n",
    "classifier = classifier.fit(X_train,y_train)"
   ]
  },
  {
   "cell_type": "code",
   "execution_count": 30,
   "id": "0a7db060",
   "metadata": {
    "ExecuteTime": {
     "end_time": "2021-11-17T07:11:37.832422Z",
     "start_time": "2021-11-17T07:11:37.810571Z"
    }
   },
   "outputs": [
    {
     "data": {
      "text/plain": [
       "DecisionTreeClassifier(max_depth=3)"
      ]
     },
     "execution_count": 30,
     "metadata": {},
     "output_type": "execute_result"
    }
   ],
   "source": [
    "model = DecisionTreeClassifier(criterion = 'gini',max_depth=3)\n",
    "model.fit(X_train,y_train) "
   ]
  },
  {
   "cell_type": "code",
   "execution_count": 31,
   "id": "a20d6f44",
   "metadata": {
    "ExecuteTime": {
     "end_time": "2021-11-17T07:12:03.814354Z",
     "start_time": "2021-11-17T07:11:59.171306Z"
    }
   },
   "outputs": [
    {
     "data": {
      "image/png": "[encoded data removed]",
      "text/plain": [
       "<Figure size 432x288 with 1 Axes>"
      ]
     },
     "metadata": {
      "needs_background": "light"
     },
     "output_type": "display_data"
    }
   ],
   "source": [
    "#PLot the decision tree\n",
    "tree.plot_tree(model);\n"
   ]
  },
  {
   "cell_type": "code",
   "execution_count": 33,
   "id": "66dd34c6",
   "metadata": {
    "ExecuteTime": {
     "end_time": "2021-11-17T07:12:53.531545Z",
     "start_time": "2021-11-17T07:12:53.508105Z"
    }
   },
   "outputs": [
    {
     "data": {
      "text/plain": [
       "1      46\n",
       "0      32\n",
       "3      25\n",
       "19     16\n",
       "579     1\n",
       "dtype: int64"
      ]
     },
     "execution_count": 33,
     "metadata": {},
     "output_type": "execute_result"
    }
   ],
   "source": [
    "#Predicting on test data\n",
    "preds = model.predict(X_test) # predicting on test data set \n",
    "pd.Series(preds).value_counts() # getting the count of each category  "
   ]
  },
  {
   "cell_type": "code",
   "execution_count": 34,
   "id": "382575c7",
   "metadata": {
    "ExecuteTime": {
     "end_time": "2021-11-17T07:13:10.359015Z",
     "start_time": "2021-11-17T07:13:10.345773Z"
    }
   },
   "outputs": [
    {
     "data": {
      "text/plain": [
       "array([  3,   3,   3,   0,   3,   3,   3,   1,   0,  19,   1,  19,   1,\n",
       "         1,   0,   1,   1,   1,   1,   3,   1,   0,  19,   1,   1,   3,\n",
       "        19,   1,   1,   3,   3,   3,   0,   1,   0,   0,   0,   3,   1,\n",
       "         0,   1,   1,   0,   1,   1,   1,   3,   1,   1,   0,   0,  19,\n",
       "        19,   1,   0,   0,   0,   1, 579,   1,   1,   1,   1,   3,   1,\n",
       "         3,   1,   1,   0,   0,   3,   1,   0,   3,   1,   0,   1,  19,\n",
       "         0,   0,   1,  19,   0,   0,   1,  19,   1,   3,   3,   3,   0,\n",
       "         0,   1,  19,   3,   1,   1,   3,   3,  19,   3,  19,   1,   0,\n",
       "         0,   0,   0,   0,   1,   1,  19,   0,   3,  19,   1,  19,   0,\n",
       "         1,  19,   1], dtype=int64)"
      ]
     },
     "execution_count": 34,
     "metadata": {},
     "output_type": "execute_result"
    }
   ],
   "source": [
    "preds "
   ]
  },
  {
   "cell_type": "code",
   "execution_count": 35,
   "id": "6132fcdf",
   "metadata": {
    "ExecuteTime": {
     "end_time": "2021-11-17T07:13:34.616313Z",
     "start_time": "2021-11-17T07:13:33.891652Z"
    }
   },
   "outputs": [
    {
     "data": {
      "text/html": [
       "<div>\n",
       "<style scoped>\n",
       "    .dataframe tbody tr th:only-of-type {\n",
       "        vertical-align: middle;\n",
       "    }\n",
       "\n",
       "    .dataframe tbody tr th {\n",
       "        vertical-align: top;\n",
       "    }\n",
       "\n",
       "    .dataframe thead th {\n",
       "        text-align: right;\n",
       "    }\n",
       "</style>\n",
       "<table border=\"1\" class=\"dataframe\">\n",
       "  <thead>\n",
       "    <tr style=\"text-align: right;\">\n",
       "      <th>col_0</th>\n",
       "      <th>0</th>\n",
       "      <th>1</th>\n",
       "      <th>3</th>\n",
       "      <th>19</th>\n",
       "      <th>579</th>\n",
       "    </tr>\n",
       "    <tr>\n",
       "      <th>TaxableIncome</th>\n",
       "      <th></th>\n",
       "      <th></th>\n",
       "      <th></th>\n",
       "      <th></th>\n",
       "      <th></th>\n",
       "    </tr>\n",
       "  </thead>\n",
       "  <tbody>\n",
       "    <tr>\n",
       "      <th>15</th>\n",
       "      <td>0</td>\n",
       "      <td>0</td>\n",
       "      <td>0</td>\n",
       "      <td>1</td>\n",
       "      <td>0</td>\n",
       "    </tr>\n",
       "    <tr>\n",
       "      <th>16</th>\n",
       "      <td>1</td>\n",
       "      <td>0</td>\n",
       "      <td>0</td>\n",
       "      <td>0</td>\n",
       "      <td>0</td>\n",
       "    </tr>\n",
       "    <tr>\n",
       "      <th>23</th>\n",
       "      <td>0</td>\n",
       "      <td>1</td>\n",
       "      <td>0</td>\n",
       "      <td>0</td>\n",
       "      <td>0</td>\n",
       "    </tr>\n",
       "    <tr>\n",
       "      <th>25</th>\n",
       "      <td>1</td>\n",
       "      <td>0</td>\n",
       "      <td>0</td>\n",
       "      <td>0</td>\n",
       "      <td>0</td>\n",
       "    </tr>\n",
       "    <tr>\n",
       "      <th>26</th>\n",
       "      <td>0</td>\n",
       "      <td>1</td>\n",
       "      <td>0</td>\n",
       "      <td>0</td>\n",
       "      <td>0</td>\n",
       "    </tr>\n",
       "    <tr>\n",
       "      <th>...</th>\n",
       "      <td>...</td>\n",
       "      <td>...</td>\n",
       "      <td>...</td>\n",
       "      <td>...</td>\n",
       "      <td>...</td>\n",
       "    </tr>\n",
       "    <tr>\n",
       "      <th>584</th>\n",
       "      <td>1</td>\n",
       "      <td>0</td>\n",
       "      <td>0</td>\n",
       "      <td>0</td>\n",
       "      <td>0</td>\n",
       "    </tr>\n",
       "    <tr>\n",
       "      <th>586</th>\n",
       "      <td>0</td>\n",
       "      <td>0</td>\n",
       "      <td>1</td>\n",
       "      <td>0</td>\n",
       "      <td>0</td>\n",
       "    </tr>\n",
       "    <tr>\n",
       "      <th>591</th>\n",
       "      <td>0</td>\n",
       "      <td>1</td>\n",
       "      <td>0</td>\n",
       "      <td>0</td>\n",
       "      <td>0</td>\n",
       "    </tr>\n",
       "    <tr>\n",
       "      <th>593</th>\n",
       "      <td>0</td>\n",
       "      <td>0</td>\n",
       "      <td>0</td>\n",
       "      <td>1</td>\n",
       "      <td>0</td>\n",
       "    </tr>\n",
       "    <tr>\n",
       "      <th>596</th>\n",
       "      <td>0</td>\n",
       "      <td>0</td>\n",
       "      <td>1</td>\n",
       "      <td>0</td>\n",
       "      <td>0</td>\n",
       "    </tr>\n",
       "  </tbody>\n",
       "</table>\n",
       "<p>120 rows × 5 columns</p>\n",
       "</div>"
      ],
      "text/plain": [
       "col_0          0    1    3    19   579\n",
       "TaxableIncome                         \n",
       "15               0    0    0    1    0\n",
       "16               1    0    0    0    0\n",
       "23               0    1    0    0    0\n",
       "25               1    0    0    0    0\n",
       "26               0    1    0    0    0\n",
       "...            ...  ...  ...  ...  ...\n",
       "584              1    0    0    0    0\n",
       "586              0    0    1    0    0\n",
       "591              0    1    0    0    0\n",
       "593              0    0    0    1    0\n",
       "596              0    0    1    0    0\n",
       "\n",
       "[120 rows x 5 columns]"
      ]
     },
     "execution_count": 35,
     "metadata": {},
     "output_type": "execute_result"
    }
   ],
   "source": [
    "pd.crosstab(y_test,preds)  # getting the 2 way table to understand the correct and wrong predictions"
   ]
  },
  {
   "cell_type": "code",
   "execution_count": 38,
   "id": "0a6fb5fa",
   "metadata": {
    "ExecuteTime": {
     "end_time": "2021-11-17T07:15:00.054190Z",
     "start_time": "2021-11-17T07:15:00.040362Z"
    }
   },
   "outputs": [
    {
     "data": {
      "text/plain": [
       "0.0"
      ]
     },
     "execution_count": 38,
     "metadata": {},
     "output_type": "execute_result"
    }
   ],
   "source": [
    "# Accuracy \n",
    "np.mean(preds==y_test)"
   ]
  },
  {
   "cell_type": "code",
   "execution_count": 39,
   "id": "06ea711a",
   "metadata": {
    "ExecuteTime": {
     "end_time": "2021-11-17T07:15:02.307296Z",
     "start_time": "2021-11-17T07:15:02.299971Z"
    }
   },
   "outputs": [],
   "source": [
    "# Decision Tree Regression\n",
    "from sklearn.tree import DecisionTreeRegressor "
   ]
  },
  {
   "cell_type": "code",
   "execution_count": 41,
   "id": "9a84c9df",
   "metadata": {
    "ExecuteTime": {
     "end_time": "2021-11-17T07:15:27.647575Z",
     "start_time": "2021-11-17T07:15:27.630104Z"
    }
   },
   "outputs": [],
   "source": [
    "array = data.values\n",
    "X = array[:,0:4]\n",
    "y = array[:,5] "
   ]
  },
  {
   "cell_type": "code",
   "execution_count": 45,
   "id": "b102537e",
   "metadata": {
    "ExecuteTime": {
     "end_time": "2021-11-17T07:16:19.858619Z",
     "start_time": "2021-11-17T07:16:19.849329Z"
    }
   },
   "outputs": [],
   "source": [
    "X_train, X_test, y_train, y_test = train_test_split(X, y, test_size=0.2, random_state=1) "
   ]
  },
  {
   "cell_type": "code",
   "execution_count": 46,
   "id": "f4790371",
   "metadata": {
    "ExecuteTime": {
     "end_time": "2021-11-17T07:16:20.547964Z",
     "start_time": "2021-11-17T07:16:20.530233Z"
    }
   },
   "outputs": [
    {
     "data": {
      "text/plain": [
       "DecisionTreeRegressor()"
      ]
     },
     "execution_count": 46,
     "metadata": {},
     "output_type": "execute_result"
    }
   ],
   "source": [
    "model = DecisionTreeRegressor()\n",
    "model.fit(X_train, y_train) "
   ]
  },
  {
   "cell_type": "code",
   "execution_count": 47,
   "id": "46b8720e",
   "metadata": {
    "ExecuteTime": {
     "end_time": "2021-11-17T07:16:21.157600Z",
     "start_time": "2021-11-17T07:16:21.136995Z"
    }
   },
   "outputs": [
    {
     "data": {
      "text/plain": [
       "-1.0487560846779678"
      ]
     },
     "execution_count": 47,
     "metadata": {},
     "output_type": "execute_result"
    }
   ],
   "source": [
    "#Find the accuracy\n",
    "model.score(X_test,y_test) "
   ]
  },
  {
   "cell_type": "code",
   "execution_count": null,
   "id": "389e5edc",
   "metadata": {},
   "outputs": [],
   "source": [
    "# Fraud Check Exercise - 2"
   ]
  },
  {
   "cell_type": "code",
   "execution_count": 49,
   "id": "bb134686",
   "metadata": {
    "ExecuteTime": {
     "end_time": "2021-11-17T10:45:29.927746Z",
     "start_time": "2021-11-17T10:45:29.911715Z"
    }
   },
   "outputs": [],
   "source": [
    "# Load libraries\n",
    "import pandas as pd\n",
    "from sklearn.tree import DecisionTreeClassifier # Import Decision Tree Classifier\n",
    "from sklearn.model_selection import train_test_split # Import train_test_split function\n",
    "from sklearn import metrics #Import scikit-learn metrics module for accuracy calculation\n",
    "# load dataset\n",
    "data = pd.read_csv(\"Fraud_check.csv\")"
   ]
  },
  {
   "cell_type": "code",
   "execution_count": 50,
   "id": "460c6c69",
   "metadata": {
    "ExecuteTime": {
     "end_time": "2021-11-17T10:45:41.010712Z",
     "start_time": "2021-11-17T10:45:40.980566Z"
    }
   },
   "outputs": [
    {
     "data": {
      "text/html": [
       "<div>\n",
       "<style scoped>\n",
       "    .dataframe tbody tr th:only-of-type {\n",
       "        vertical-align: middle;\n",
       "    }\n",
       "\n",
       "    .dataframe tbody tr th {\n",
       "        vertical-align: top;\n",
       "    }\n",
       "\n",
       "    .dataframe thead th {\n",
       "        text-align: right;\n",
       "    }\n",
       "</style>\n",
       "<table border=\"1\" class=\"dataframe\">\n",
       "  <thead>\n",
       "    <tr style=\"text-align: right;\">\n",
       "      <th></th>\n",
       "      <th>Undergrad</th>\n",
       "      <th>Marital Status</th>\n",
       "      <th>City Population</th>\n",
       "      <th>Work Experience</th>\n",
       "      <th>Urban</th>\n",
       "      <th>TaxableIncome</th>\n",
       "    </tr>\n",
       "  </thead>\n",
       "  <tbody>\n",
       "    <tr>\n",
       "      <th>0</th>\n",
       "      <td>NO</td>\n",
       "      <td>Single</td>\n",
       "      <td>50047</td>\n",
       "      <td>10</td>\n",
       "      <td>YES</td>\n",
       "      <td>68833</td>\n",
       "    </tr>\n",
       "    <tr>\n",
       "      <th>1</th>\n",
       "      <td>YES</td>\n",
       "      <td>Divorced</td>\n",
       "      <td>134075</td>\n",
       "      <td>18</td>\n",
       "      <td>YES</td>\n",
       "      <td>33700</td>\n",
       "    </tr>\n",
       "    <tr>\n",
       "      <th>2</th>\n",
       "      <td>NO</td>\n",
       "      <td>Married</td>\n",
       "      <td>160205</td>\n",
       "      <td>30</td>\n",
       "      <td>YES</td>\n",
       "      <td>36925</td>\n",
       "    </tr>\n",
       "    <tr>\n",
       "      <th>3</th>\n",
       "      <td>YES</td>\n",
       "      <td>Single</td>\n",
       "      <td>193264</td>\n",
       "      <td>15</td>\n",
       "      <td>YES</td>\n",
       "      <td>50190</td>\n",
       "    </tr>\n",
       "    <tr>\n",
       "      <th>4</th>\n",
       "      <td>NO</td>\n",
       "      <td>Married</td>\n",
       "      <td>27533</td>\n",
       "      <td>28</td>\n",
       "      <td>NO</td>\n",
       "      <td>81002</td>\n",
       "    </tr>\n",
       "  </tbody>\n",
       "</table>\n",
       "</div>"
      ],
      "text/plain": [
       "  Undergrad Marital Status  City Population  Work Experience Urban  \\\n",
       "0        NO         Single            50047               10   YES   \n",
       "1       YES       Divorced           134075               18   YES   \n",
       "2        NO        Married           160205               30   YES   \n",
       "3       YES         Single           193264               15   YES   \n",
       "4        NO        Married            27533               28    NO   \n",
       "\n",
       "   TaxableIncome  \n",
       "0          68833  \n",
       "1          33700  \n",
       "2          36925  \n",
       "3          50190  \n",
       "4          81002  "
      ]
     },
     "execution_count": 50,
     "metadata": {},
     "output_type": "execute_result"
    }
   ],
   "source": [
    "data.head()"
   ]
  },
  {
   "cell_type": "code",
   "execution_count": 52,
   "id": "53bdcc25",
   "metadata": {
    "ExecuteTime": {
     "end_time": "2021-11-17T10:54:12.133051Z",
     "start_time": "2021-11-17T10:54:12.110782Z"
    }
   },
   "outputs": [],
   "source": [
    "from sklearn.preprocessing import LabelEncoder\n",
    "\n",
    "label_encoder = preprocessing.LabelEncoder()\n",
    "data['Marital Status']= label_encoder.fit_transform(data['Marital Status']) \n",
    "\n",
    "label_encoder = preprocessing.LabelEncoder()\n",
    "data['Urban']= label_encoder.fit_transform(data['Urban']) \n",
    "\n",
    "label_encoder = preprocessing.LabelEncoder()\n",
    "data['Undergrad']= label_encoder.fit_transform(data['Undergrad']) \n",
    "\n",
    "label_encoder = preprocessing.LabelEncoder()\n",
    "data['TaxableIncome']= label_encoder.fit_transform(data['TaxableIncome']) "
   ]
  },
  {
   "cell_type": "code",
   "execution_count": 66,
   "id": "e8c440b4",
   "metadata": {
    "ExecuteTime": {
     "end_time": "2021-11-17T11:03:49.369119Z",
     "start_time": "2021-11-17T11:03:49.353967Z"
    }
   },
   "outputs": [],
   "source": [
    "#split dataset in features and target variable\n",
    "\n",
    "X = data.iloc[:,0:5] # Features\n",
    "y = data.TaxableIncome # Target variable"
   ]
  },
  {
   "cell_type": "code",
   "execution_count": 67,
   "id": "3cfd25e3",
   "metadata": {
    "ExecuteTime": {
     "end_time": "2021-11-17T11:03:52.151671Z",
     "start_time": "2021-11-17T11:03:52.136547Z"
    }
   },
   "outputs": [],
   "source": [
    "# Split dataset into training set and test set\n",
    "X_train, X_test, y_train, y_test = train_test_split(X, y, test_size=0.3, random_state=1) # 70% training and 30% test"
   ]
  },
  {
   "cell_type": "code",
   "execution_count": 68,
   "id": "bd6d465c",
   "metadata": {
    "ExecuteTime": {
     "end_time": "2021-11-17T11:03:52.740120Z",
     "start_time": "2021-11-17T11:03:52.709836Z"
    }
   },
   "outputs": [],
   "source": [
    "# Create Decision Tree classifier object\n",
    "clf = DecisionTreeClassifier(criterion=\"entropy\", max_depth=3)\n",
    "\n",
    "# Train Decision Tree Classifier\n",
    "clf = clf.fit(X_train,y_train)\n",
    "\n",
    "#Predict the response for test dataset\n",
    "y_pred = clf.predict(X_test)"
   ]
  },
  {
   "cell_type": "code",
   "execution_count": 69,
   "id": "3bb84c0d",
   "metadata": {
    "ExecuteTime": {
     "end_time": "2021-11-17T11:03:54.801582Z",
     "start_time": "2021-11-17T11:03:54.783708Z"
    }
   },
   "outputs": [
    {
     "data": {
      "text/plain": [
       "('Accuracy:', 0.0)"
      ]
     },
     "execution_count": 69,
     "metadata": {},
     "output_type": "execute_result"
    }
   ],
   "source": [
    "(\"Accuracy:\",metrics.accuracy_score(y_test, y_pred))"
   ]
  },
  {
   "cell_type": "code",
   "execution_count": null,
   "id": "78442dff",
   "metadata": {},
   "outputs": [],
   "source": [
    "#Fraud CHeck EXercise - 3"
   ]
  },
  {
   "cell_type": "code",
   "execution_count": 71,
   "id": "f75a8ae0",
   "metadata": {
    "ExecuteTime": {
     "end_time": "2021-11-17T11:09:49.118211Z",
     "start_time": "2021-11-17T11:09:49.104389Z"
    }
   },
   "outputs": [],
   "source": [
    "#importing necessary libraries\n",
    "import pandas as pd\n",
    "import matplotlib.pyplot as plt\n",
    "df = pd.read_csv(\"Fraud_check.csv\")"
   ]
  },
  {
   "cell_type": "code",
   "execution_count": 72,
   "id": "48a769c7",
   "metadata": {
    "ExecuteTime": {
     "end_time": "2021-11-17T11:10:13.312986Z",
     "start_time": "2021-11-17T11:10:13.290840Z"
    }
   },
   "outputs": [
    {
     "data": {
      "text/html": [
       "<div>\n",
       "<style scoped>\n",
       "    .dataframe tbody tr th:only-of-type {\n",
       "        vertical-align: middle;\n",
       "    }\n",
       "\n",
       "    .dataframe tbody tr th {\n",
       "        vertical-align: top;\n",
       "    }\n",
       "\n",
       "    .dataframe thead th {\n",
       "        text-align: right;\n",
       "    }\n",
       "</style>\n",
       "<table border=\"1\" class=\"dataframe\">\n",
       "  <thead>\n",
       "    <tr style=\"text-align: right;\">\n",
       "      <th></th>\n",
       "      <th>Undergrad</th>\n",
       "      <th>Marital Status</th>\n",
       "      <th>City Population</th>\n",
       "      <th>Work Experience</th>\n",
       "      <th>Urban</th>\n",
       "      <th>TaxableIncome</th>\n",
       "    </tr>\n",
       "  </thead>\n",
       "  <tbody>\n",
       "    <tr>\n",
       "      <th>0</th>\n",
       "      <td>NO</td>\n",
       "      <td>Single</td>\n",
       "      <td>50047</td>\n",
       "      <td>10</td>\n",
       "      <td>YES</td>\n",
       "      <td>68833</td>\n",
       "    </tr>\n",
       "    <tr>\n",
       "      <th>1</th>\n",
       "      <td>YES</td>\n",
       "      <td>Divorced</td>\n",
       "      <td>134075</td>\n",
       "      <td>18</td>\n",
       "      <td>YES</td>\n",
       "      <td>33700</td>\n",
       "    </tr>\n",
       "    <tr>\n",
       "      <th>2</th>\n",
       "      <td>NO</td>\n",
       "      <td>Married</td>\n",
       "      <td>160205</td>\n",
       "      <td>30</td>\n",
       "      <td>YES</td>\n",
       "      <td>36925</td>\n",
       "    </tr>\n",
       "    <tr>\n",
       "      <th>3</th>\n",
       "      <td>YES</td>\n",
       "      <td>Single</td>\n",
       "      <td>193264</td>\n",
       "      <td>15</td>\n",
       "      <td>YES</td>\n",
       "      <td>50190</td>\n",
       "    </tr>\n",
       "    <tr>\n",
       "      <th>4</th>\n",
       "      <td>NO</td>\n",
       "      <td>Married</td>\n",
       "      <td>27533</td>\n",
       "      <td>28</td>\n",
       "      <td>NO</td>\n",
       "      <td>81002</td>\n",
       "    </tr>\n",
       "  </tbody>\n",
       "</table>\n",
       "</div>"
      ],
      "text/plain": [
       "  Undergrad Marital Status  City Population  Work Experience Urban  \\\n",
       "0        NO         Single            50047               10   YES   \n",
       "1       YES       Divorced           134075               18   YES   \n",
       "2        NO        Married           160205               30   YES   \n",
       "3       YES         Single           193264               15   YES   \n",
       "4        NO        Married            27533               28    NO   \n",
       "\n",
       "   TaxableIncome  \n",
       "0          68833  \n",
       "1          33700  \n",
       "2          36925  \n",
       "3          50190  \n",
       "4          81002  "
      ]
     },
     "execution_count": 72,
     "metadata": {},
     "output_type": "execute_result"
    }
   ],
   "source": [
    "df.head()"
   ]
  },
  {
   "cell_type": "code",
   "execution_count": 74,
   "id": "a7f1863e",
   "metadata": {
    "ExecuteTime": {
     "end_time": "2021-11-17T11:10:46.705309Z",
     "start_time": "2021-11-17T11:10:46.628554Z"
    }
   },
   "outputs": [],
   "source": [
    "#Creating dummy vairables for ['Undergrad','Marital.Status','Urban'] dropping first dummy variable\n",
    "df=pd.get_dummies(df,columns=['Undergrad','Marital Status','Urban'], drop_first=True)"
   ]
  },
  {
   "cell_type": "code",
   "execution_count": 76,
   "id": "dc83f09c",
   "metadata": {
    "ExecuteTime": {
     "end_time": "2021-11-17T11:11:23.947789Z",
     "start_time": "2021-11-17T11:11:23.934566Z"
    }
   },
   "outputs": [],
   "source": [
    "#Creating new cols TaxInc and dividing 'Taxable.Income' cols on the basis of [10002,30000,99620] for Risky and Good\n",
    "df[\"TaxInc\"] = pd.cut(df[\"TaxableIncome\"], bins = [10002,30000,99620], labels = [\"Risky\", \"Good\"])"
   ]
  },
  {
   "cell_type": "code",
   "execution_count": 77,
   "id": "e263b33c",
   "metadata": {
    "ExecuteTime": {
     "end_time": "2021-11-17T11:11:43.995311Z",
     "start_time": "2021-11-17T11:11:43.991495Z"
    }
   },
   "outputs": [],
   "source": [
    "# taxable_income <= 30000 as “Risky=0” and others are “Good=1”"
   ]
  },
  {
   "cell_type": "code",
   "execution_count": 79,
   "id": "12cb5bc7",
   "metadata": {
    "ExecuteTime": {
     "end_time": "2021-11-17T11:12:36.802352Z",
     "start_time": "2021-11-17T11:12:36.767679Z"
    }
   },
   "outputs": [
    {
     "data": {
      "text/html": [
       "<div>\n",
       "<style scoped>\n",
       "    .dataframe tbody tr th:only-of-type {\n",
       "        vertical-align: middle;\n",
       "    }\n",
       "\n",
       "    .dataframe tbody tr th {\n",
       "        vertical-align: top;\n",
       "    }\n",
       "\n",
       "    .dataframe thead th {\n",
       "        text-align: right;\n",
       "    }\n",
       "</style>\n",
       "<table border=\"1\" class=\"dataframe\">\n",
       "  <thead>\n",
       "    <tr style=\"text-align: right;\">\n",
       "      <th></th>\n",
       "      <th>City Population</th>\n",
       "      <th>Work Experience</th>\n",
       "      <th>TaxableIncome</th>\n",
       "      <th>Undergrad_YES</th>\n",
       "      <th>Marital Status_Married</th>\n",
       "      <th>Marital Status_Single</th>\n",
       "      <th>Urban_YES</th>\n",
       "      <th>TaxInc_Good</th>\n",
       "    </tr>\n",
       "  </thead>\n",
       "  <tbody>\n",
       "    <tr>\n",
       "      <th>590</th>\n",
       "      <td>85195</td>\n",
       "      <td>14</td>\n",
       "      <td>43018</td>\n",
       "      <td>0</td>\n",
       "      <td>1</td>\n",
       "      <td>0</td>\n",
       "      <td>1</td>\n",
       "      <td>1</td>\n",
       "    </tr>\n",
       "    <tr>\n",
       "      <th>591</th>\n",
       "      <td>132859</td>\n",
       "      <td>18</td>\n",
       "      <td>27394</td>\n",
       "      <td>1</td>\n",
       "      <td>0</td>\n",
       "      <td>1</td>\n",
       "      <td>1</td>\n",
       "      <td>0</td>\n",
       "    </tr>\n",
       "    <tr>\n",
       "      <th>592</th>\n",
       "      <td>75143</td>\n",
       "      <td>16</td>\n",
       "      <td>68152</td>\n",
       "      <td>1</td>\n",
       "      <td>0</td>\n",
       "      <td>1</td>\n",
       "      <td>0</td>\n",
       "      <td>1</td>\n",
       "    </tr>\n",
       "    <tr>\n",
       "      <th>593</th>\n",
       "      <td>131963</td>\n",
       "      <td>10</td>\n",
       "      <td>84775</td>\n",
       "      <td>0</td>\n",
       "      <td>0</td>\n",
       "      <td>0</td>\n",
       "      <td>1</td>\n",
       "      <td>1</td>\n",
       "    </tr>\n",
       "    <tr>\n",
       "      <th>594</th>\n",
       "      <td>97526</td>\n",
       "      <td>9</td>\n",
       "      <td>47364</td>\n",
       "      <td>0</td>\n",
       "      <td>1</td>\n",
       "      <td>0</td>\n",
       "      <td>1</td>\n",
       "      <td>1</td>\n",
       "    </tr>\n",
       "    <tr>\n",
       "      <th>595</th>\n",
       "      <td>39492</td>\n",
       "      <td>7</td>\n",
       "      <td>76340</td>\n",
       "      <td>1</td>\n",
       "      <td>0</td>\n",
       "      <td>0</td>\n",
       "      <td>1</td>\n",
       "      <td>1</td>\n",
       "    </tr>\n",
       "    <tr>\n",
       "      <th>596</th>\n",
       "      <td>55369</td>\n",
       "      <td>2</td>\n",
       "      <td>69967</td>\n",
       "      <td>1</td>\n",
       "      <td>0</td>\n",
       "      <td>0</td>\n",
       "      <td>1</td>\n",
       "      <td>1</td>\n",
       "    </tr>\n",
       "    <tr>\n",
       "      <th>597</th>\n",
       "      <td>154058</td>\n",
       "      <td>0</td>\n",
       "      <td>47334</td>\n",
       "      <td>0</td>\n",
       "      <td>0</td>\n",
       "      <td>0</td>\n",
       "      <td>1</td>\n",
       "      <td>1</td>\n",
       "    </tr>\n",
       "    <tr>\n",
       "      <th>598</th>\n",
       "      <td>180083</td>\n",
       "      <td>17</td>\n",
       "      <td>98592</td>\n",
       "      <td>1</td>\n",
       "      <td>1</td>\n",
       "      <td>0</td>\n",
       "      <td>0</td>\n",
       "      <td>1</td>\n",
       "    </tr>\n",
       "    <tr>\n",
       "      <th>599</th>\n",
       "      <td>158137</td>\n",
       "      <td>16</td>\n",
       "      <td>96519</td>\n",
       "      <td>0</td>\n",
       "      <td>0</td>\n",
       "      <td>0</td>\n",
       "      <td>0</td>\n",
       "      <td>1</td>\n",
       "    </tr>\n",
       "  </tbody>\n",
       "</table>\n",
       "</div>"
      ],
      "text/plain": [
       "     City Population  Work Experience  TaxableIncome  Undergrad_YES  \\\n",
       "590            85195               14          43018              0   \n",
       "591           132859               18          27394              1   \n",
       "592            75143               16          68152              1   \n",
       "593           131963               10          84775              0   \n",
       "594            97526                9          47364              0   \n",
       "595            39492                7          76340              1   \n",
       "596            55369                2          69967              1   \n",
       "597           154058                0          47334              0   \n",
       "598           180083               17          98592              1   \n",
       "599           158137               16          96519              0   \n",
       "\n",
       "     Marital Status_Married  Marital Status_Single  Urban_YES  TaxInc_Good  \n",
       "590                       1                      0          1            1  \n",
       "591                       0                      1          1            0  \n",
       "592                       0                      1          0            1  \n",
       "593                       0                      0          1            1  \n",
       "594                       1                      0          1            1  \n",
       "595                       0                      0          1            1  \n",
       "596                       0                      0          1            1  \n",
       "597                       0                      0          1            1  \n",
       "598                       1                      0          0            1  \n",
       "599                       0                      0          0            1  "
      ]
     },
     "execution_count": 79,
     "metadata": {},
     "output_type": "execute_result"
    }
   ],
   "source": [
    "df = pd.get_dummies(df,columns = [\"TaxInc\"],drop_first=True)\n",
    "df.tail(10)"
   ]
  },
  {
   "cell_type": "code",
   "execution_count": 80,
   "id": "889c7ab3",
   "metadata": {
    "ExecuteTime": {
     "end_time": "2021-11-17T11:13:20.472328Z",
     "start_time": "2021-11-17T11:13:20.463747Z"
    }
   },
   "outputs": [],
   "source": [
    "# Normalization function \n",
    "def norm_func(i):\n",
    "    x = (i-i.min())/(i.max()-i.min())\n",
    "    return (x)"
   ]
  },
  {
   "cell_type": "code",
   "execution_count": 82,
   "id": "799bebe9",
   "metadata": {
    "ExecuteTime": {
     "end_time": "2021-11-17T11:14:25.900038Z",
     "start_time": "2021-11-17T11:14:25.852742Z"
    }
   },
   "outputs": [
    {
     "data": {
      "text/html": [
       "<div>\n",
       "<style scoped>\n",
       "    .dataframe tbody tr th:only-of-type {\n",
       "        vertical-align: middle;\n",
       "    }\n",
       "\n",
       "    .dataframe tbody tr th {\n",
       "        vertical-align: top;\n",
       "    }\n",
       "\n",
       "    .dataframe thead th {\n",
       "        text-align: right;\n",
       "    }\n",
       "</style>\n",
       "<table border=\"1\" class=\"dataframe\">\n",
       "  <thead>\n",
       "    <tr style=\"text-align: right;\">\n",
       "      <th></th>\n",
       "      <th>City Population</th>\n",
       "      <th>Work Experience</th>\n",
       "      <th>TaxableIncome</th>\n",
       "      <th>Undergrad_YES</th>\n",
       "      <th>Marital Status_Married</th>\n",
       "      <th>Marital Status_Single</th>\n",
       "      <th>Urban_YES</th>\n",
       "      <th>TaxInc_Good</th>\n",
       "    </tr>\n",
       "  </thead>\n",
       "  <tbody>\n",
       "    <tr>\n",
       "      <th>590</th>\n",
       "      <td>0.341473</td>\n",
       "      <td>0.466667</td>\n",
       "      <td>0.368405</td>\n",
       "      <td>0.0</td>\n",
       "      <td>1.0</td>\n",
       "      <td>0.0</td>\n",
       "      <td>1.0</td>\n",
       "      <td>1.0</td>\n",
       "    </tr>\n",
       "    <tr>\n",
       "      <th>591</th>\n",
       "      <td>0.615406</td>\n",
       "      <td>0.600000</td>\n",
       "      <td>0.194061</td>\n",
       "      <td>1.0</td>\n",
       "      <td>0.0</td>\n",
       "      <td>1.0</td>\n",
       "      <td>1.0</td>\n",
       "      <td>0.0</td>\n",
       "    </tr>\n",
       "    <tr>\n",
       "      <th>592</th>\n",
       "      <td>0.283703</td>\n",
       "      <td>0.533333</td>\n",
       "      <td>0.648869</td>\n",
       "      <td>1.0</td>\n",
       "      <td>0.0</td>\n",
       "      <td>1.0</td>\n",
       "      <td>0.0</td>\n",
       "      <td>1.0</td>\n",
       "    </tr>\n",
       "    <tr>\n",
       "      <th>593</th>\n",
       "      <td>0.610256</td>\n",
       "      <td>0.333333</td>\n",
       "      <td>0.834360</td>\n",
       "      <td>0.0</td>\n",
       "      <td>0.0</td>\n",
       "      <td>0.0</td>\n",
       "      <td>1.0</td>\n",
       "      <td>1.0</td>\n",
       "    </tr>\n",
       "    <tr>\n",
       "      <th>594</th>\n",
       "      <td>0.412341</td>\n",
       "      <td>0.300000</td>\n",
       "      <td>0.416901</td>\n",
       "      <td>0.0</td>\n",
       "      <td>1.0</td>\n",
       "      <td>0.0</td>\n",
       "      <td>1.0</td>\n",
       "      <td>1.0</td>\n",
       "    </tr>\n",
       "    <tr>\n",
       "      <th>595</th>\n",
       "      <td>0.078811</td>\n",
       "      <td>0.233333</td>\n",
       "      <td>0.740236</td>\n",
       "      <td>1.0</td>\n",
       "      <td>0.0</td>\n",
       "      <td>0.0</td>\n",
       "      <td>1.0</td>\n",
       "      <td>1.0</td>\n",
       "    </tr>\n",
       "    <tr>\n",
       "      <th>596</th>\n",
       "      <td>0.170058</td>\n",
       "      <td>0.066667</td>\n",
       "      <td>0.669122</td>\n",
       "      <td>1.0</td>\n",
       "      <td>0.0</td>\n",
       "      <td>0.0</td>\n",
       "      <td>1.0</td>\n",
       "      <td>1.0</td>\n",
       "    </tr>\n",
       "    <tr>\n",
       "      <th>597</th>\n",
       "      <td>0.737240</td>\n",
       "      <td>0.000000</td>\n",
       "      <td>0.416566</td>\n",
       "      <td>0.0</td>\n",
       "      <td>0.0</td>\n",
       "      <td>0.0</td>\n",
       "      <td>1.0</td>\n",
       "      <td>1.0</td>\n",
       "    </tr>\n",
       "    <tr>\n",
       "      <th>598</th>\n",
       "      <td>0.886810</td>\n",
       "      <td>0.566667</td>\n",
       "      <td>0.988540</td>\n",
       "      <td>1.0</td>\n",
       "      <td>1.0</td>\n",
       "      <td>0.0</td>\n",
       "      <td>0.0</td>\n",
       "      <td>1.0</td>\n",
       "    </tr>\n",
       "    <tr>\n",
       "      <th>599</th>\n",
       "      <td>0.760683</td>\n",
       "      <td>0.533333</td>\n",
       "      <td>0.965408</td>\n",
       "      <td>0.0</td>\n",
       "      <td>0.0</td>\n",
       "      <td>0.0</td>\n",
       "      <td>0.0</td>\n",
       "      <td>1.0</td>\n",
       "    </tr>\n",
       "  </tbody>\n",
       "</table>\n",
       "</div>"
      ],
      "text/plain": [
       "     City Population  Work Experience  TaxableIncome  Undergrad_YES  \\\n",
       "590         0.341473         0.466667       0.368405            0.0   \n",
       "591         0.615406         0.600000       0.194061            1.0   \n",
       "592         0.283703         0.533333       0.648869            1.0   \n",
       "593         0.610256         0.333333       0.834360            0.0   \n",
       "594         0.412341         0.300000       0.416901            0.0   \n",
       "595         0.078811         0.233333       0.740236            1.0   \n",
       "596         0.170058         0.066667       0.669122            1.0   \n",
       "597         0.737240         0.000000       0.416566            0.0   \n",
       "598         0.886810         0.566667       0.988540            1.0   \n",
       "599         0.760683         0.533333       0.965408            0.0   \n",
       "\n",
       "     Marital Status_Married  Marital Status_Single  Urban_YES  TaxInc_Good  \n",
       "590                     1.0                    0.0        1.0          1.0  \n",
       "591                     0.0                    1.0        1.0          0.0  \n",
       "592                     0.0                    1.0        0.0          1.0  \n",
       "593                     0.0                    0.0        1.0          1.0  \n",
       "594                     1.0                    0.0        1.0          1.0  \n",
       "595                     0.0                    0.0        1.0          1.0  \n",
       "596                     0.0                    0.0        1.0          1.0  \n",
       "597                     0.0                    0.0        1.0          1.0  \n",
       "598                     1.0                    0.0        0.0          1.0  \n",
       "599                     0.0                    0.0        0.0          1.0  "
      ]
     },
     "execution_count": 82,
     "metadata": {},
     "output_type": "execute_result"
    }
   ],
   "source": [
    "# Normalized data frame (considering the numerical part of data)\n",
    "df_norm = norm_func(df.iloc[:,0:])\n",
    "df_norm.tail(10)"
   ]
  },
  {
   "cell_type": "code",
   "execution_count": 83,
   "id": "e04ad481",
   "metadata": {
    "ExecuteTime": {
     "end_time": "2021-11-17T11:14:49.981272Z",
     "start_time": "2021-11-17T11:14:49.967009Z"
    }
   },
   "outputs": [],
   "source": [
    "# Declaring features & target\n",
    "X = df_norm.drop(['TaxInc_Good'], axis=1)\n",
    "y = df_norm['TaxInc_Good']"
   ]
  },
  {
   "cell_type": "code",
   "execution_count": 84,
   "id": "f6523ed3",
   "metadata": {
    "ExecuteTime": {
     "end_time": "2021-11-17T11:15:03.173945Z",
     "start_time": "2021-11-17T11:15:03.155547Z"
    }
   },
   "outputs": [],
   "source": [
    "from sklearn.model_selection import train_test_split"
   ]
  },
  {
   "cell_type": "code",
   "execution_count": 85,
   "id": "149900f9",
   "metadata": {
    "ExecuteTime": {
     "end_time": "2021-11-17T11:15:13.605072Z",
     "start_time": "2021-11-17T11:15:13.573846Z"
    }
   },
   "outputs": [],
   "source": [
    "# Splitting data into train & test\n",
    "Xtrain, Xtest, ytrain, ytest = train_test_split(X, y, test_size=0.2, random_state=0)"
   ]
  },
  {
   "cell_type": "code",
   "execution_count": 86,
   "id": "41e59794",
   "metadata": {
    "ExecuteTime": {
     "end_time": "2021-11-17T11:15:44.983860Z",
     "start_time": "2021-11-17T11:15:44.973701Z"
    }
   },
   "outputs": [],
   "source": [
    "#Choosing RandomForestClassifier\n",
    "from sklearn.ensemble import RandomForestClassifier"
   ]
  },
  {
   "cell_type": "code",
   "execution_count": 96,
   "id": "9769a512",
   "metadata": {
    "ExecuteTime": {
     "end_time": "2021-11-17T11:25:19.347842Z",
     "start_time": "2021-11-17T11:25:19.111994Z"
    }
   },
   "outputs": [
    {
     "data": {
      "text/plain": [
       "RandomForestClassifier(max_depth=10, min_samples_split=20)"
      ]
     },
     "execution_count": 96,
     "metadata": {},
     "output_type": "execute_result"
    }
   ],
   "source": [
    "forest = RandomForestClassifier(n_estimators=100,max_depth=10,min_samples_split=20,criterion='gini')  # n_estimators is the number of decision trees\n",
    "forest.fit(Xtrain, ytrain)"
   ]
  },
  {
   "cell_type": "code",
   "execution_count": 97,
   "id": "25be0052",
   "metadata": {
    "ExecuteTime": {
     "end_time": "2021-11-17T11:25:20.908293Z",
     "start_time": "2021-11-17T11:25:20.848180Z"
    }
   },
   "outputs": [
    {
     "name": "stdout",
     "output_type": "stream",
     "text": [
      "Train accuracy: 1.0\n",
      "Test accuracy: 1.0\n"
     ]
    }
   ],
   "source": [
    "print('Train accuracy: {}'.format(forest.score(Xtrain, ytrain)))\n",
    "print('Test accuracy: {}'.format(forest.score(Xtest, ytest)))"
   ]
  },
  {
   "cell_type": "code",
   "execution_count": 107,
   "id": "535df6ff",
   "metadata": {
    "ExecuteTime": {
     "end_time": "2021-11-17T11:28:10.622333Z",
     "start_time": "2021-11-17T11:28:10.471657Z"
    }
   },
   "outputs": [
    {
     "data": {
      "text/plain": [
       "RandomForestClassifier(criterion='entropy', max_depth=5, min_samples_split=30,\n",
       "                       n_estimators=50)"
      ]
     },
     "execution_count": 107,
     "metadata": {},
     "output_type": "execute_result"
    }
   ],
   "source": [
    "# Creating new model testing with new parameters\n",
    "forest_new = RandomForestClassifier(n_estimators=50,max_depth=5,min_samples_split=30,criterion='entropy')  # n_estimators is the number of decision trees\n",
    "forest_new.fit(Xtrain, ytrain)"
   ]
  },
  {
   "cell_type": "code",
   "execution_count": 108,
   "id": "4244100f",
   "metadata": {
    "ExecuteTime": {
     "end_time": "2021-11-17T11:28:11.255581Z",
     "start_time": "2021-11-17T11:28:11.209821Z"
    }
   },
   "outputs": [
    {
     "name": "stdout",
     "output_type": "stream",
     "text": [
      "Train accuracy: 1.0\n",
      "Test accuracy: 1.0\n"
     ]
    }
   ],
   "source": [
    "print('Train accuracy: {}'.format(forest_new.score(Xtrain, ytrain)))\n",
    "print('Test accuracy: {}'.format(forest_new.score(Xtest, ytest)))"
   ]
  },
  {
   "cell_type": "code",
   "execution_count": 110,
   "id": "3266418c",
   "metadata": {
    "ExecuteTime": {
     "end_time": "2021-11-17T11:29:19.306228Z",
     "start_time": "2021-11-17T11:29:19.300272Z"
    }
   },
   "outputs": [],
   "source": [
    "# Fraud Check EXercise - 4"
   ]
  },
  {
   "cell_type": "code",
   "execution_count": 111,
   "id": "90a1f0f8",
   "metadata": {
    "ExecuteTime": {
     "end_time": "2021-11-17T11:29:26.354783Z",
     "start_time": "2021-11-17T11:29:26.340834Z"
    }
   },
   "outputs": [],
   "source": [
    "import pandas as pd\n",
    "import matplotlib.pyplot as plt\n",
    "from sklearn import datasets  \n",
    "import numpy as np\n",
    "from sklearn.model_selection import train_test_split\n",
    "from sklearn.tree import  DecisionTreeClassifier\n",
    "from sklearn import tree\n",
    "from sklearn.metrics import classification_report\n",
    "from sklearn import preprocessing \n",
    "from sklearn.metrics import accuracy_score\n",
    "import re"
   ]
  },
  {
   "cell_type": "code",
   "execution_count": 112,
   "id": "855fc77b",
   "metadata": {
    "ExecuteTime": {
     "end_time": "2021-11-17T11:29:36.352205Z",
     "start_time": "2021-11-17T11:29:36.319480Z"
    }
   },
   "outputs": [
    {
     "data": {
      "text/html": [
       "<div>\n",
       "<style scoped>\n",
       "    .dataframe tbody tr th:only-of-type {\n",
       "        vertical-align: middle;\n",
       "    }\n",
       "\n",
       "    .dataframe tbody tr th {\n",
       "        vertical-align: top;\n",
       "    }\n",
       "\n",
       "    .dataframe thead th {\n",
       "        text-align: right;\n",
       "    }\n",
       "</style>\n",
       "<table border=\"1\" class=\"dataframe\">\n",
       "  <thead>\n",
       "    <tr style=\"text-align: right;\">\n",
       "      <th></th>\n",
       "      <th>Undergrad</th>\n",
       "      <th>Marital Status</th>\n",
       "      <th>City Population</th>\n",
       "      <th>Work Experience</th>\n",
       "      <th>Urban</th>\n",
       "      <th>TaxableIncome</th>\n",
       "    </tr>\n",
       "  </thead>\n",
       "  <tbody>\n",
       "    <tr>\n",
       "      <th>0</th>\n",
       "      <td>NO</td>\n",
       "      <td>Single</td>\n",
       "      <td>50047</td>\n",
       "      <td>10</td>\n",
       "      <td>YES</td>\n",
       "      <td>68833</td>\n",
       "    </tr>\n",
       "    <tr>\n",
       "      <th>1</th>\n",
       "      <td>YES</td>\n",
       "      <td>Divorced</td>\n",
       "      <td>134075</td>\n",
       "      <td>18</td>\n",
       "      <td>YES</td>\n",
       "      <td>33700</td>\n",
       "    </tr>\n",
       "    <tr>\n",
       "      <th>2</th>\n",
       "      <td>NO</td>\n",
       "      <td>Married</td>\n",
       "      <td>160205</td>\n",
       "      <td>30</td>\n",
       "      <td>YES</td>\n",
       "      <td>36925</td>\n",
       "    </tr>\n",
       "    <tr>\n",
       "      <th>3</th>\n",
       "      <td>YES</td>\n",
       "      <td>Single</td>\n",
       "      <td>193264</td>\n",
       "      <td>15</td>\n",
       "      <td>YES</td>\n",
       "      <td>50190</td>\n",
       "    </tr>\n",
       "    <tr>\n",
       "      <th>4</th>\n",
       "      <td>NO</td>\n",
       "      <td>Married</td>\n",
       "      <td>27533</td>\n",
       "      <td>28</td>\n",
       "      <td>NO</td>\n",
       "      <td>81002</td>\n",
       "    </tr>\n",
       "  </tbody>\n",
       "</table>\n",
       "</div>"
      ],
      "text/plain": [
       "  Undergrad Marital Status  City Population  Work Experience Urban  \\\n",
       "0        NO         Single            50047               10   YES   \n",
       "1       YES       Divorced           134075               18   YES   \n",
       "2        NO        Married           160205               30   YES   \n",
       "3       YES         Single           193264               15   YES   \n",
       "4        NO        Married            27533               28    NO   \n",
       "\n",
       "   TaxableIncome  \n",
       "0          68833  \n",
       "1          33700  \n",
       "2          36925  \n",
       "3          50190  \n",
       "4          81002  "
      ]
     },
     "execution_count": 112,
     "metadata": {},
     "output_type": "execute_result"
    }
   ],
   "source": [
    "data = pd.read_csv(\"Fraud_check.csv\")\n",
    "data.head()"
   ]
  },
  {
   "cell_type": "code",
   "execution_count": 113,
   "id": "d3ac1543",
   "metadata": {
    "ExecuteTime": {
     "end_time": "2021-11-17T11:29:43.903165Z",
     "start_time": "2021-11-17T11:29:43.884541Z"
    }
   },
   "outputs": [
    {
     "data": {
      "text/plain": [
       "Undergrad          0\n",
       "Marital Status     0\n",
       "City Population    0\n",
       "Work Experience    0\n",
       "Urban              0\n",
       "TaxableIncome      0\n",
       "dtype: int64"
      ]
     },
     "execution_count": 113,
     "metadata": {},
     "output_type": "execute_result"
    }
   ],
   "source": [
    "data.isnull().sum()"
   ]
  },
  {
   "cell_type": "code",
   "execution_count": 114,
   "id": "32fb822d",
   "metadata": {
    "ExecuteTime": {
     "end_time": "2021-11-17T11:29:56.447431Z",
     "start_time": "2021-11-17T11:29:56.425548Z"
    }
   },
   "outputs": [],
   "source": [
    "from sklearn.preprocessing import LabelEncoder\n",
    "\n",
    "label_encoder = preprocessing.LabelEncoder()\n",
    "data['Marital Status']= label_encoder.fit_transform(data['Marital Status']) \n",
    "\n",
    "label_encoder = preprocessing.LabelEncoder()\n",
    "data['Urban']= label_encoder.fit_transform(data['Urban']) \n",
    "\n",
    "label_encoder = preprocessing.LabelEncoder()\n",
    "data['Undergrad']= label_encoder.fit_transform(data['Undergrad']) \n",
    "\n",
    "label_encoder = preprocessing.LabelEncoder()\n",
    "data['TaxableIncome']= label_encoder.fit_transform(data['TaxableIncome']) "
   ]
  },
  {
   "cell_type": "code",
   "execution_count": 115,
   "id": "3620fe2f",
   "metadata": {
    "ExecuteTime": {
     "end_time": "2021-11-17T11:30:08.630050Z",
     "start_time": "2021-11-17T11:30:08.589786Z"
    }
   },
   "outputs": [
    {
     "data": {
      "text/html": [
       "<div>\n",
       "<style scoped>\n",
       "    .dataframe tbody tr th:only-of-type {\n",
       "        vertical-align: middle;\n",
       "    }\n",
       "\n",
       "    .dataframe tbody tr th {\n",
       "        vertical-align: top;\n",
       "    }\n",
       "\n",
       "    .dataframe thead th {\n",
       "        text-align: right;\n",
       "    }\n",
       "</style>\n",
       "<table border=\"1\" class=\"dataframe\">\n",
       "  <thead>\n",
       "    <tr style=\"text-align: right;\">\n",
       "      <th></th>\n",
       "      <th>Undergrad</th>\n",
       "      <th>Marital Status</th>\n",
       "      <th>City Population</th>\n",
       "      <th>Work Experience</th>\n",
       "      <th>Urban</th>\n",
       "      <th>TaxableIncome</th>\n",
       "    </tr>\n",
       "  </thead>\n",
       "  <tbody>\n",
       "    <tr>\n",
       "      <th>0</th>\n",
       "      <td>0</td>\n",
       "      <td>2</td>\n",
       "      <td>50047</td>\n",
       "      <td>10</td>\n",
       "      <td>1</td>\n",
       "      <td>387</td>\n",
       "    </tr>\n",
       "    <tr>\n",
       "      <th>1</th>\n",
       "      <td>1</td>\n",
       "      <td>0</td>\n",
       "      <td>134075</td>\n",
       "      <td>18</td>\n",
       "      <td>1</td>\n",
       "      <td>163</td>\n",
       "    </tr>\n",
       "    <tr>\n",
       "      <th>2</th>\n",
       "      <td>0</td>\n",
       "      <td>1</td>\n",
       "      <td>160205</td>\n",
       "      <td>30</td>\n",
       "      <td>1</td>\n",
       "      <td>186</td>\n",
       "    </tr>\n",
       "    <tr>\n",
       "      <th>3</th>\n",
       "      <td>1</td>\n",
       "      <td>2</td>\n",
       "      <td>193264</td>\n",
       "      <td>15</td>\n",
       "      <td>1</td>\n",
       "      <td>272</td>\n",
       "    </tr>\n",
       "    <tr>\n",
       "      <th>4</th>\n",
       "      <td>0</td>\n",
       "      <td>1</td>\n",
       "      <td>27533</td>\n",
       "      <td>28</td>\n",
       "      <td>0</td>\n",
       "      <td>468</td>\n",
       "    </tr>\n",
       "    <tr>\n",
       "      <th>...</th>\n",
       "      <td>...</td>\n",
       "      <td>...</td>\n",
       "      <td>...</td>\n",
       "      <td>...</td>\n",
       "      <td>...</td>\n",
       "      <td>...</td>\n",
       "    </tr>\n",
       "    <tr>\n",
       "      <th>595</th>\n",
       "      <td>1</td>\n",
       "      <td>0</td>\n",
       "      <td>39492</td>\n",
       "      <td>7</td>\n",
       "      <td>1</td>\n",
       "      <td>436</td>\n",
       "    </tr>\n",
       "    <tr>\n",
       "      <th>596</th>\n",
       "      <td>1</td>\n",
       "      <td>0</td>\n",
       "      <td>55369</td>\n",
       "      <td>2</td>\n",
       "      <td>1</td>\n",
       "      <td>395</td>\n",
       "    </tr>\n",
       "    <tr>\n",
       "      <th>597</th>\n",
       "      <td>0</td>\n",
       "      <td>0</td>\n",
       "      <td>154058</td>\n",
       "      <td>0</td>\n",
       "      <td>1</td>\n",
       "      <td>251</td>\n",
       "    </tr>\n",
       "    <tr>\n",
       "      <th>598</th>\n",
       "      <td>1</td>\n",
       "      <td>1</td>\n",
       "      <td>180083</td>\n",
       "      <td>17</td>\n",
       "      <td>0</td>\n",
       "      <td>587</td>\n",
       "    </tr>\n",
       "    <tr>\n",
       "      <th>599</th>\n",
       "      <td>0</td>\n",
       "      <td>0</td>\n",
       "      <td>158137</td>\n",
       "      <td>16</td>\n",
       "      <td>0</td>\n",
       "      <td>569</td>\n",
       "    </tr>\n",
       "  </tbody>\n",
       "</table>\n",
       "<p>600 rows × 6 columns</p>\n",
       "</div>"
      ],
      "text/plain": [
       "     Undergrad  Marital Status  City Population  Work Experience  Urban  \\\n",
       "0            0               2            50047               10      1   \n",
       "1            1               0           134075               18      1   \n",
       "2            0               1           160205               30      1   \n",
       "3            1               2           193264               15      1   \n",
       "4            0               1            27533               28      0   \n",
       "..         ...             ...              ...              ...    ...   \n",
       "595          1               0            39492                7      1   \n",
       "596          1               0            55369                2      1   \n",
       "597          0               0           154058                0      1   \n",
       "598          1               1           180083               17      0   \n",
       "599          0               0           158137               16      0   \n",
       "\n",
       "     TaxableIncome  \n",
       "0              387  \n",
       "1              163  \n",
       "2              186  \n",
       "3              272  \n",
       "4              468  \n",
       "..             ...  \n",
       "595            436  \n",
       "596            395  \n",
       "597            251  \n",
       "598            587  \n",
       "599            569  \n",
       "\n",
       "[600 rows x 6 columns]"
      ]
     },
     "execution_count": 115,
     "metadata": {},
     "output_type": "execute_result"
    }
   ],
   "source": [
    "data"
   ]
  },
  {
   "cell_type": "code",
   "execution_count": 116,
   "id": "5340ea84",
   "metadata": {
    "ExecuteTime": {
     "end_time": "2021-11-17T11:30:19.804154Z",
     "start_time": "2021-11-17T11:30:19.782727Z"
    }
   },
   "outputs": [
    {
     "name": "stdout",
     "output_type": "stream",
     "text": [
      "Dataset Length::  600\n",
      "Dataset Shape::  (600, 6)\n"
     ]
    }
   ],
   "source": [
    "print(\"Dataset Length:: \",len(data))\n",
    "print(\"Dataset Shape:: \",data.shape)"
   ]
  },
  {
   "cell_type": "code",
   "execution_count": 117,
   "id": "9ad867e5",
   "metadata": {
    "ExecuteTime": {
     "end_time": "2021-11-17T11:30:28.211086Z",
     "start_time": "2021-11-17T11:30:28.203188Z"
    }
   },
   "outputs": [],
   "source": [
    "X=data.iloc[:,0:5]\n",
    "Y=data['TaxableIncome']"
   ]
  },
  {
   "cell_type": "code",
   "execution_count": 118,
   "id": "01946388",
   "metadata": {
    "ExecuteTime": {
     "end_time": "2021-11-17T11:30:36.220940Z",
     "start_time": "2021-11-17T11:30:36.206882Z"
    }
   },
   "outputs": [],
   "source": [
    "X_train, X_test, y_train, y_test = train_test_split(X, Y, test_size=0.2, random_state=100) "
   ]
  },
  {
   "cell_type": "code",
   "execution_count": 119,
   "id": "55053a12",
   "metadata": {
    "ExecuteTime": {
     "end_time": "2021-11-17T11:30:46.097384Z",
     "start_time": "2021-11-17T11:30:46.064600Z"
    }
   },
   "outputs": [
    {
     "data": {
      "text/plain": [
       "DecisionTreeClassifier(max_depth=3, min_samples_leaf=5, random_state=40)"
      ]
     },
     "execution_count": 119,
     "metadata": {},
     "output_type": "execute_result"
    }
   ],
   "source": [
    "#Function to perform training with Entropy\n",
    "clf_gini = DecisionTreeClassifier (criterion = \"gini\", random_state = 40,\n",
    "max_depth = 3, min_samples_leaf = 5)\n",
    "clf_gini.fit(X_train, y_train)"
   ]
  },
  {
   "cell_type": "code",
   "execution_count": 120,
   "id": "ccbe63e0",
   "metadata": {
    "ExecuteTime": {
     "end_time": "2021-11-17T11:30:53.813844Z",
     "start_time": "2021-11-17T11:30:53.799109Z"
    }
   },
   "outputs": [
    {
     "name": "stdout",
     "output_type": "stream",
     "text": [
      "[  0  45   3   8   3  41 331   0 331   0   0   8  45   8  45   0   0   0\n",
      " 331   8  45   8   0 331  45   3   0   8   8  12 331   0   8   0   0   8\n",
      "   8   8   0  45   0   0   0   0  29   0   0   8   0  45   8 331   8 331\n",
      "   0   8  45   8   0  12   8  45 331   8   0   8   0   8   3   0  45   0\n",
      "   8   0   0   8   0   3   0 331  12   3  45 331  45  45   8   0   3   8\n",
      "   3 331  45   0   8 331   8   8   3   0   8  45   0  45   8   0   0   8\n",
      "   8  41   0   0   3   0   8   8   8   8 331   3]\n"
     ]
    }
   ],
   "source": [
    "#Function to perform training with Entropy\n",
    "y_pred_en = clf_gini.predict(X_test)\n",
    "print(y_pred_en)"
   ]
  },
  {
   "cell_type": "code",
   "execution_count": 121,
   "id": "bb3b3c8d",
   "metadata": {
    "ExecuteTime": {
     "end_time": "2021-11-17T11:31:01.090548Z",
     "start_time": "2021-11-17T11:31:01.082072Z"
    }
   },
   "outputs": [
    {
     "name": "stdout",
     "output_type": "stream",
     "text": [
      "Accuracy is 0.0\n"
     ]
    }
   ],
   "source": [
    "print(\"Accuracy is\", accuracy_score(y_test,y_pred_en)*100)"
   ]
  },
  {
   "cell_type": "code",
   "execution_count": 122,
   "id": "25acf707",
   "metadata": {
    "ExecuteTime": {
     "end_time": "2021-11-17T11:31:19.785420Z",
     "start_time": "2021-11-17T11:31:14.011432Z"
    }
   },
   "outputs": [
    {
     "data": {
      "image/png": "[encoded data removed]",
      "text/plain": [
       "<Figure size 432x288 with 1 Axes>"
      ]
     },
     "metadata": {
      "needs_background": "light"
     },
     "output_type": "display_data"
    }
   ],
   "source": [
    "#PLot the decision tree\n",
    "tree.plot_tree(clf_gini);\n"
   ]
  },
  {
   "cell_type": "code",
   "execution_count": null,
   "id": "c7b63a69",
   "metadata": {},
   "outputs": [],
   "source": []
  }
 ],
 "metadata": {
  "kernelspec": {
   "display_name": "Python 3",
   "language": "python",
   "name": "python3"
  },
  "language_info": {
   "codemirror_mode": {
    "name": "ipython",
    "version": 3
   },
   "file_extension": ".py",
   "mimetype": "text/x-python",
   "name": "python",
   "nbconvert_exporter": "python",
   "pygments_lexer": "ipython3",
   "version": "3.8.8"
  },
  "toc": {
   "base_numbering": 1,
   "nav_menu": {},
   "number_sections": true,
   "sideBar": true,
   "skip_h1_title": false,
   "title_cell": "Table of Contents",
   "title_sidebar": "Contents",
   "toc_cell": false,
   "toc_position": {},
   "toc_section_display": true,
   "toc_window_display": false
  },
  "varInspector": {
   "cols": {
    "lenName": 16,
    "lenType": 16,
    "lenVar": 40
   },
   "kernels_config": {
    "python": {
     "delete_cmd_postfix": "",
     "delete_cmd_prefix": "del ",
     "library": "var_list.py",
     "varRefreshCmd": "print(var_dic_list())"
    },
    "r": {
     "delete_cmd_postfix": ") ",
     "delete_cmd_prefix": "rm(",
     "library": "var_list.r",
     "varRefreshCmd": "cat(var_dic_list()) "
    }
   },
   "types_to_exclude": [
    "module",
    "function",
    "builtin_function_or_method",
    "instance",
    "_Feature"
   ],
   "window_display": false
  }
 },
 "nbformat": 4,
 "nbformat_minor": 5
}
